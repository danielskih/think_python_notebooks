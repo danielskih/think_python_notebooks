{
 "cells": [
  {
   "cell_type": "markdown",
   "metadata": {},
   "source": [
    "## Chapter 14 \n",
    "\n",
    "# Files\n",
    "## 14.1 Persistence\n",
    "Most of the programs we have seen so far are transient in the sense that they run for a short time and produce some output, but when they end, their data disappears. If you run the program again, it starts with a clean slate.\n",
    "Other programs are persistent: they run for a long time (or all the time); they keep at least some of their data in permanent storage (a hard drive, for example); and if they shut down and restart, they pick up where they left off.\n",
    "Examples of persistent programs are operating systems, which run pretty much whenever a computer is on, and web servers, which run all the time, waiting for requests to come in on the network.\n",
    "One of the simplest ways for programs to maintain their data is by reading and writing text files. We have already seen programs that read text files; in this chapter we will see programs that write them.\n",
    "An alternative is to store the state of the program in a database. In this chapter I will present a simple database and a module, pickle, that makes it easy to store program data.\n",
    "## 14.2 Reading and writing\n",
    "A text file is a sequence of characters stored on a permanent medium like a hard drive, flash memory, or CD-ROM. We saw how to open and read a file in Section 9.1.\n",
    "To write a file, you have to open it with mode 'w' as a second parameter:"
   ]
  },
  {
   "cell_type": "code",
   "execution_count": null,
   "metadata": {},
   "outputs": [],
   "source": [
    ">>> fout = open('output.txt', 'w')\n",
    ">>> print fout\n",
    "<open file 'output.txt', mode 'w' at 0xb7eb2410>\n",
    "# If the file already exists, opening it in write mode clears out the old data and starts fresh, so be careful! If the file doesn’t exist, a new one is created.\n",
    "# The write method puts data into the file.\n",
    "134 Chapter14. Files\n",
    ">>> line1 = \"This here's the wattle,\\n\"\n",
    ">>> fout.write(line1)\n",
    "# Again, the file object keeps track of where it is, so if you call write again, it adds the new data to the end.\n",
    ">>> line2 = \"the emblem of our land.\\n\"\n",
    ">>> fout.write(line2)\n",
    "# When you are done writing, you have to close the file.\n",
    ">>> fout.close()"
   ]
  },
  {
   "cell_type": "markdown",
   "metadata": {},
   "source": [
    "## 14.3 Format operator\n",
    "The argument of write has to be a string, so if we want to put other values in a file, we have to convert them to strings. The easiest way to do that is with str:"
   ]
  },
  {
   "cell_type": "code",
   "execution_count": null,
   "metadata": {},
   "outputs": [],
   "source": [
    ">>> x = 52\n",
    ">>> fout.write(str(x))"
   ]
  },
  {
   "cell_type": "markdown",
   "metadata": {},
   "source": [
    "An alternative is to use the format operator, %. When applied to integers, % is the modulus operator. But when the first operand is a string, % is the format operator.\n",
    "The first operand is the format string, which contains one or more format sequences, which specify how the second operand is formatted. The result is a string.\n",
    "For example, the format sequence '%d' means that the second operand should be format- ted as an integer (d stands for “decimal”):"
   ]
  },
  {
   "cell_type": "code",
   "execution_count": null,
   "metadata": {},
   "outputs": [],
   "source": [
    ">>> camels = 42\n",
    ">>> '%d' % camels\n",
    "'42'"
   ]
  },
  {
   "cell_type": "code",
   "execution_count": null,
   "metadata": {},
   "outputs": [],
   "source": [
    "The result is the string '42', which is not to be confused with the integer value 42.\n",
    "A format sequence can appear anywhere in the string, so you can embed a value in a\n",
    "sentence:"
   ]
  },
  {
   "cell_type": "code",
   "execution_count": null,
   "metadata": {},
   "outputs": [],
   "source": [
    ">>> camels = 42\n",
    ">>> 'I have spotted %d camels.' % camels\n",
    "'I have spotted 42 camels.'"
   ]
  },
  {
   "cell_type": "code",
   "execution_count": null,
   "metadata": {},
   "outputs": [],
   "source": [
    "If there is more than one format sequence in the string, the second argument has to be a tuple. Each format sequence is matched with an element of the tuple, in order.\n",
    "The following example uses '%d' to format an integer, '%g' to format a floating-point num- ber (don’t ask why), and '%s' to format a string:"
   ]
  },
  {
   "cell_type": "code",
   "execution_count": null,
   "metadata": {},
   "outputs": [],
   "source": [
    ">>> 'In %d years I have spotted %g %s.' % (3, 0.1, 'camels')\n",
    "'In 3 years I have spotted 0.1 camels.'\n",
    "The number of elements in the tuple has to match the number of format sequences in the string. Also, the types of the elements have to match the format sequences:\n",
    ">>> '%d %d %d' % (1, 2)\n",
    "TypeError: not enough arguments for format string\n",
    ">>> '%d' % 'dollars'\n",
    "TypeError: illegal argument type for built-in operation"
   ]
  },
  {
   "cell_type": "markdown",
   "metadata": {},
   "source": [
    "### 14.4. Filenames and paths\n",
    " In the first example, there aren’t enough elements; in the second, the element is the wrong type.\n",
    "The format operator is powerful, but it can be difficult to use. You can read more about it at http://docs.python.org/2/library/stdtypes.html#string-formatting.\n",
    "Files are organized into directories (also called “folders”). Every running program has a “current directory,” which is the default directory for most operations. For example, when you open a file for reading, Python looks for it in the current directory.\n",
    "The os module provides functions for working with files and directories (“os” stands for “operating system”). os.getcwd returns the name of the current directory:"
   ]
  },
  {
   "cell_type": "code",
   "execution_count": 2,
   "metadata": {},
   "outputs": [
    {
     "name": "stdout",
     "output_type": "stream",
     "text": [
      "/Users/danielfriedman/Documents/Git/Think Python\n"
     ]
    }
   ],
   "source": [
    ">>> import os\n",
    ">>> cwd = os.getcwd()\n",
    ">>> print(cwd)"
   ]
  },
  {
   "cell_type": "markdown",
   "metadata": {},
   "source": [
    "cwd stands for “current working directory.” The result in this example is /home/dinsdale, which is the home directory of a user named dinsdale.\n",
    "A string like cwd that identifies a file is called a path. A relative path starts from the current directory; an absolute path starts from the topmost directory in the file system.\n",
    "The paths we have seen so far are simple filenames, so they are relative to the current directory. To find the absolute path to a file, you can use os.path.abspath:"
   ]
  },
  {
   "cell_type": "code",
   "execution_count": 4,
   "metadata": {},
   "outputs": [
    {
     "data": {
      "text/plain": [
       "'/Users/danielfriedman/Documents/Git/Think Python/memo.txt'"
      ]
     },
     "execution_count": 4,
     "metadata": {},
     "output_type": "execute_result"
    }
   ],
   "source": [
    ">>> os.path.abspath('memo.txt')\n",
    "# '/home/dinsdale/memo.txt'"
   ]
  },
  {
   "cell_type": "markdown",
   "metadata": {},
   "source": [
    "os.path.exists checks whether a file or directory exists: "
   ]
  },
  {
   "cell_type": "code",
   "execution_count": 5,
   "metadata": {},
   "outputs": [
    {
     "data": {
      "text/plain": [
       "False"
      ]
     },
     "execution_count": 5,
     "metadata": {},
     "output_type": "execute_result"
    }
   ],
   "source": [
    ">>> os.path.exists('memo.txt')"
   ]
  },
  {
   "cell_type": "code",
   "execution_count": null,
   "metadata": {},
   "outputs": [],
   "source": [
    "If it exists, os.path.isdir checks whether it’s a directory: "
   ]
  },
  {
   "cell_type": "code",
   "execution_count": null,
   "metadata": {},
   "outputs": [],
   "source": [
    ">>> os.path.exists('memo.txt')\n",
    "True\n",
    "If it exists, os.path.isdir checks whether it’s a directory: >>> os.path.isdir('memo.txt')\n",
    "False\n",
    ">>> os.path.isdir('music')\n",
    "True\n",
    "Similarly, os.path.isfile checks whether it’s a file.\n",
    "os.listdir returns a list of the files (and other directories) in the given directory:\n",
    ">>> os.listdir(cwd)\n",
    "['music', 'photos', 'memo.txt']"
   ]
  },
  {
   "cell_type": "code",
   "execution_count": null,
   "metadata": {},
   "outputs": [],
   "source": [
    "To demonstrate these functions, the following example “walks” through a directory, prints the names of all the files, and calls itself recursively on all the directories."
   ]
  },
  {
   "cell_type": "code",
   "execution_count": null,
   "metadata": {},
   "outputs": [],
   "source": [
    "def walk(dirname):\n",
    "    for name in os.listdir(dirname):\n",
    "        path = os.path.join(dirname, name)\n",
    "        if os.path.isfile(path):\n",
    "            print(path)\n",
    "        else:\n",
    "            walk(path)"
   ]
  },
  {
   "cell_type": "markdown",
   "metadata": {},
   "source": [
    "os.path.join takes a directory and a file name and joins them into a complete path. \n",
    "\n",
    "### Exercise 14.1. \n",
    "The os module provides a function called walk that is similar to this one but more versatile. Read the documentation and use it to print the names of the files in a given directory and its subdirectories.\n",
    "Solution: http://greenteapress.com/thinkpython/code/walk.py .\n",
    "\n",
    "### 14.5 Catching exceptions\n",
    "A lot of things can go wrong when you try to read and write files. If you try to open a file that doesn’t exist, you get an IOError:"
   ]
  },
  {
   "cell_type": "code",
   "execution_count": null,
   "metadata": {},
   "outputs": [],
   "source": [
    ">>> fin = open('bad_file')\n",
    "IOError: [Errno 2] No such file or directory: 'bad_file'\n",
    "If you don’t have permission to access a file:\n",
    ">>> fout = open('/etc/passwd', 'w')\n",
    "IOError: [Errno 13] Permission denied: '/etc/passwd'\n",
    "And if you try to open a directory for reading, you get\n",
    ">>> fin = open('/home')\n",
    "IOError: [Errno 21] Is a directory"
   ]
  },
  {
   "cell_type": "markdown",
   "metadata": {},
   "source": [
    "To avoid these errors, you could use functions like os.path.exists and os.path.isfile, but it would take a lot of time and code to check all the possibilities (if “Errno 21” is any indication, there are at least 21 things that can go wrong).\n",
    "It is better to go ahead and try and deal with problems if they happen—which is exactly what the try statement does. The syntax is similar to an if statement:"
   ]
  },
  {
   "cell_type": "code",
   "execution_count": 8,
   "metadata": {},
   "outputs": [
    {
     "name": "stdout",
     "output_type": "stream",
     "text": [
      "Something went wrong.\n"
     ]
    }
   ],
   "source": [
    "try:\n",
    "    fin = open('bad_file')\n",
    "    for line in fin:\n",
    "        print (line)\n",
    "    fin.close()\n",
    "except:\n",
    "    print ('Something went wrong.')"
   ]
  },
  {
   "cell_type": "markdown",
   "metadata": {},
   "source": [
    "Python starts by executing the try clause. If all goes well, it skips the except clause and proceeds. If an exception occurs, it jumps out of the try clause and executes the except clause.\n",
    "Handling an exception with a try statement is called catching an exception. In this example, the except clause prints an error message that is not very helpful. In general, catching an exception gives you a chance to fix the problem, or try again, or at least end the program gracefully.\n",
    "### Exercise 14.2. \n",
    "Write a function called sed that takes as arguments a pattern string, a replacement string, and two filenames; it should read the first file and write the contents into the second file (creating it if necessary). If the pattern string appears anywhere in the file, it should be replaced with the replacement string.\n",
    "If an error occurs while opening, reading, writing or closing files, your program should catch the exception, print an error message, and exit. \n",
    "Solution: http://greenteapress.com/thinkpython/code/sed.py."
   ]
  },
  {
   "cell_type": "code",
   "execution_count": 45,
   "metadata": {},
   "outputs": [
    {
     "data": {
      "text/plain": [
       "'http://greenteapress.com/thinkpython/code/sed.py'"
      ]
     },
     "execution_count": 45,
     "metadata": {},
     "output_type": "execute_result"
    }
   ],
   "source": [
    "fix_link('http: // thinkpython. com/ code/ sed. py')"
   ]
  },
  {
   "cell_type": "code",
   "execution_count": 10,
   "metadata": {},
   "outputs": [
    {
     "data": {
      "text/plain": [
       "['http: // ', ' code/ sed. py.']"
      ]
     },
     "execution_count": 10,
     "metadata": {},
     "output_type": "execute_result"
    }
   ],
   "source": [
    "'http: // thinkpython. com/ code/ sed. py.'.split('thinkpython. com/')"
   ]
  },
  {
   "cell_type": "code",
   "execution_count": 12,
   "metadata": {},
   "outputs": [
    {
     "data": {
      "text/plain": [
       "False"
      ]
     },
     "execution_count": 12,
     "metadata": {},
     "output_type": "execute_result"
    }
   ],
   "source": [
    "'thinkpython. com/'.startswith('think')"
   ]
  },
  {
   "cell_type": "markdown",
   "metadata": {},
   "source": [
    "### 14.6 Databases\n",
    "A database is a file that is organized for storing data. Most databases are organized like a dictionary in the sense that they map from keys to values. The biggest difference is that the database is on disk (or other permanent storage), so it persists after the program ends.\n",
    "The module anydbm provides an interface for creating and updating database files. As an example, I’ll create a database that contains captions for image files.\n",
    "Opening a database is similar to opening other files:"
   ]
  },
  {
   "cell_type": "markdown",
   "metadata": {},
   "source": [
    ">>> import anydbm\n",
    ">>> db = anydbm.open('captions.db', 'c')\n",
    "The mode 'c' means that the database should be created if it doesn’t already exist. The result is a database object that can be used (for most operations) like a dictionary. If you create a new item, anydbm updates the database file.\n",
    ">>> db['cleese.png'] = 'Photo of John Cleese.'\n",
    "When you access one of the items, anydbm reads the file: \n",
    ">>> print db['cleese.png']\n",
    "Photo of John Cleese.\n",
    "If you make another assignment to an existing key, anydbm replaces the old value:\n",
    "'''>>> db['cleese.png'] = 'Photo of John Cleese doing a silly walk.'\n",
    ">>> print db['cleese.png']'''\n",
    "Photo of John Cleese doing a silly walk.\n",
    "Many dictionary methods, like keys and items, also work with database objects. So does iteration with a for statement.\n",
    "for key in db:\n",
    "print key\n",
    "As with other files, you should close the database when you are done:\n",
    ">>> db.close()\n",
    "### 14.7 Pickling\n",
    "A limitation of anydbm is that the keys and values have to be strings. If you try to use any other type, you get an error.\n",
    "The pickle module can help. It translates almost any type of object into a string suitable for storage in a database, and then translates strings back into objects.\n",
    "pickle.dumps takes an object as a parameter and returns a string representation (dumps is short for “dump string”):"
   ]
  },
  {
   "cell_type": "markdown",
   "metadata": {},
   "source": [
    ">>> import pickle\n",
    ">>> t = [1, 2, 3]\n",
    ">>> pickle.dumps(t)\n",
    "'(lp0\\nI1\\naI2\\naI3\\na.'\n",
    "The format isn’t obvious to human readers; it is meant to be easy for pickle to interpret. pickle.loads (“load string”) reconstitutes the object:\n",
    ">>> t1 = [1, 2, 3]\n",
    ">>> s = pickle.dumps(t1)\n",
    ">>> t2 = pickle.loads(s)\n",
    ">>> print t2\n",
    "[1, 2, 3]\n",
    "Although the new object has the same value as the old, it is not (in general) the same object:\n",
    ">>> t1 == t2\n",
    "True\n",
    ">>> t1 is t2\n",
    "False\n",
    "In other words, pickling and then unpickling has the same effect as copying the object.\n",
    "You can use pickle to store non-strings in a database. In fact, this combination is so common that it has been encapsulated in a module called shelve.\n",
    "### Exercise 14.3.\n",
    "If you download my solution to Exercise 12.4 from http://greenteapress.com/thinkpython/code/anagram_sets.py , you’ll see that it creates a dictionary that maps from a sorted string of letters to the list of words that can be spelled with those letters. For example, 'opst' maps to the list ['opts', 'post', 'pots', 'spot', 'stop', 'tops'].\n",
    "Write a module that imports anagram_sets and provides two new functions: store_anagrams should store the anagram dictionary in a “shelf;” read_anagrams should look up a word and return a list of its anagrams. Solution: http://greenteapress.com/thinkpython/code/anagram_db.py"
   ]
  },
  {
   "cell_type": "code",
   "execution_count": 43,
   "metadata": {},
   "outputs": [],
   "source": [
    "def fix_link(link):\n",
    "    r=str(link).replace(' ','')\n",
    "    r=r.replace('thinkpython.com','greenteapress.com/thinkpython')\n",
    "    return r"
   ]
  },
  {
   "cell_type": "markdown",
   "metadata": {},
   "source": [
    "14.8 Pipes\n",
    "Most operating systems provide a command-line interface, also known as a shell. Shells usually provide commands to navigate the file system and launch applications. For exam- ple, in Unix you can change directories with cd, display the contents of a directory with ls, and launch a web browser by typing (for example) firefox.\n",
    "Any program that you can launch from the shell can also be launched from Python using a pipe. A pipe is an object that represents a running program.\n",
    "For example, the Unix command ls -l normally displays the contents of the current directory (in long format). You can launch ls with os.popen : >>> cmd = 'ls -l'\n",
    ">>> fp = os.popen(cmd)\n",
    "The argument is a string that contains a shell command. The return value is an object that behaves just like an open file. You can read the output from the ls process one line at a time with readline or get the whole thing at once with read:\n",
    "popen is deprecated now, which means we are supposed to stop using it and start using the subprocess module. But for simple cases, I find subprocess more complicated than necessary. So I am going to keep using popen until they take it away.\n",
    "\n",
    "14.9. Writingmodules 139\n",
    " >>> res = fp.read()\n",
    "When you are done, you close the pipe like a file:\n",
    ">>> stat = fp.close()\n",
    ">>> print stat\n",
    "None\n",
    "The return value is the final status of the ls process; None means that it ended normally (with no errors).\n",
    "For example, most Unix systems provide a command called md5sum that reads the contents of a file and computes a “checksum.” You can read about MD5 at http://en.wikipedia.org/wiki/Md5. This command provides an efficient way to check whether two files have the same contents. The probability that different contents yield the same checksum is very small (that is, unlikely to happen before the universe collapses).\n",
    "You can use a pipe to run md5sum from Python and get the result: >>> filename = 'book.tex'\n",
    ">>> cmd = 'md5sum ' + filename\n",
    ">>> fp = os.popen(cmd)\n",
    ">>> res = fp.read()\n",
    ">>> stat = fp.close()\n",
    ">>> print res\n",
    "1e0033f0ed0656636de0d75144ba32e0 book.tex\n",
    ">>> print stat\n",
    "None\n",
    "Exercise 14.4. In a large collection of MP3 files, there may be more than one copy of the same song, stored in different directories or with different file names. The goal of this exercise is to search for duplicates.\n",
    "1. Write a program that searches a directory and allofits subdirectories,recursively,and returns a list of complete paths for all files with a given suffix (like .mp3). Hint: os.path provides several useful functions for manipulating file and path names.\n",
    "2. To recognize duplicates, you can use md5sum to compute a “checksum” for each files. If two files have the same checksum, they probably have the same contents.\n",
    "3. To double-check, you can use the Unix command diff.\n",
    "Solution: http: // thinkpython. com/ code/ find_ duplicates. py .\n",
    "14.9 Writing modules\n",
    "Any file that contains Python code can be imported as a module. For example, suppose you have a file named wc.py with the following code:\n",
    "def linecount(filename):\n",
    "count = 0\n",
    "for line in open(filename):\n",
    "count += 1\n",
    "return count\n",
    "print linecount('wc.py')\n",
    "\n",
    "7\n",
    "140 Chapter14. Files\n",
    " If you run this program, it reads itself and prints the number of lines in the file, which is 7. You can also import it like this:\n",
    ">>> import wc\n",
    "7\n",
    "Now you have a module object wc: >>> print wc\n",
    "<module 'wc' from 'wc.py'>\n",
    "That provides a function called linecount: >>> wc.linecount('wc.py')\n",
    "So that’s how you write modules in Python.\n",
    "The only problem with this example is that when you import the module it executes the test code at the bottom. Normally when you import a module, it defines new functions but it doesn’t execute them.\n",
    "Programs that will be imported as modules often use the following idiom:\n",
    "if __name__ == '__main__':\n",
    "print linecount('wc.py')\n",
    "__name__ is a built-in variable that is set when the program starts. If the program is running as a script, __name__ has the value __main__; in that case, the test code is executed. Otherwise, if the module is being imported, the test code is skipped.\n",
    "Exercise 14.5. Type this example into a file named wc.py and run it as a script. Then run the Python interpreter and import wc. What is the value of __name__ when the module is being imported?\n",
    "Warning: If you import a module that has already been imported, Python does nothing. It does not re-read the file, even if it has changed.\n",
    "If you want to reload a module, you can use the built-in function reload, but it can be tricky, so the safest thing to do is restart the interpreter and then import the module again.\n",
    "14.10 Debugging\n",
    "When you are reading and writing files, you might run into problems with whitespace. These errors can be hard to debug because spaces, tabs and newlines are normally invisible:\n",
    ">>> s = '1 2\\t 3\\n 4'\n",
    ">>> print s\n",
    "123\n",
    "4\n",
    "The built-in function repr can help. It takes any object as an argument and returns a string representation of the object. For strings, it represents whitespace characters with backslash sequences:\n",
    ">>> print repr(s)\n",
    "'1 2\\t 3\\n 4'\n",
    "\n",
    "14.11. Glossary 141\n",
    " This can be helpful for debugging.\n",
    "One other problem you might run into is that different systems use different characters to indicate the end of a line. Some systems use a newline, represented \\n. Others use a return character, represented \\r. Some use both. If you move files between different systems, these inconsistencies might cause problems.\n",
    "For most systems, there are applications to convert from one format to another. You can find them (and read more about this issue) at http://en.wikipedia.org/wiki/Newline. Or, of course, you could write one yourself.\n",
    "14.11 Glossary\n",
    "persistent: Pertaining to a program that runs indefinitely and keeps at least some of its\n",
    "data in permanent storage.\n",
    "format operator: An operator, %, that takes a format string and a tuple and generates a string that includes the elements of the tuple formatted as specified by the format string.\n",
    "format string: A string, used with the format operator, that contains format sequences. format sequence: A sequence of characters in a format string, like %d, that specifies how a\n",
    "value should be formatted.\n",
    "text file: A sequence of characters stored in permanent storage like a hard drive.\n",
    "directory: A named collection of files, also called a folder.\n",
    "path: A string that identifies a file.\n",
    "relative path: A path that starts from the current directory.\n",
    "absolute path: A path that starts from the topmost directory in the file system.\n",
    "catch: Topreventanexceptionfromterminatingaprogramusingthetryandexceptstate- ments.\n",
    "database: A file whose contents are organized like a dictionary with keys that correspond to values.\n",
    "### 14.12 Exercises\n",
    "Exercise 14.6. The urllib module provides methods for manipulating URLs and downloading information from the web. The following example downloads and prints a secret message from thinkpython.com:\n",
    "import urllib\n",
    "conn = urllib.urlopen('http://thinkpython.com/secret.html')\n",
    "for line in conn:\n",
    "print line.strip()\n",
    "Run this code and follow the instructions you see there. Solution: http://greenteapress.com/thinkpython/code/zip_code.py ."
   ]
  },
  {
   "cell_type": "code",
   "execution_count": 44,
   "metadata": {},
   "outputs": [
    {
     "data": {
      "text/plain": [
       "'http://greenteapress.com/thinkpython/code/zip_code.py'"
      ]
     },
     "execution_count": 44,
     "metadata": {},
     "output_type": "execute_result"
    }
   ],
   "source": [
    "fix_link('http: // thinkpython. com/ code/ zip_ code. py' )"
   ]
  },
  {
   "cell_type": "code",
   "execution_count": null,
   "metadata": {},
   "outputs": [],
   "source": []
  }
 ],
 "metadata": {
  "kernelspec": {
   "display_name": "Python 3",
   "language": "python",
   "name": "python3"
  },
  "language_info": {
   "codemirror_mode": {
    "name": "ipython",
    "version": 3
   },
   "file_extension": ".py",
   "mimetype": "text/x-python",
   "name": "python",
   "nbconvert_exporter": "python",
   "pygments_lexer": "ipython3",
   "version": "3.8.2"
  }
 },
 "nbformat": 4,
 "nbformat_minor": 4
}
