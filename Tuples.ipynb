{
 "cells": [
  {
   "cell_type": "markdown",
   "metadata": {},
   "source": [
    "# Chapter 12 \n",
    "\n",
    "# Tuples\n",
    "\n",
    "## 12.1 Tuples are immutable\n",
    "A tuple is a sequence of values. The values can be any type, and they are indexed by integers, so in that respect tuples are a lot like lists. The important difference is that tuples are immutable.\n",
    "Syntactically, a tuple is a comma-separated list of values:"
   ]
  },
  {
   "cell_type": "code",
   "execution_count": 4,
   "metadata": {},
   "outputs": [
    {
     "data": {
      "text/plain": [
       "tuple"
      ]
     },
     "execution_count": 4,
     "metadata": {},
     "output_type": "execute_result"
    }
   ],
   "source": [
    ">>> t = 'a', 'b', 'c', 'd', 'e'\n",
    "# Although it is not necessary, it is common to enclose tuples in parentheses: \n",
    ">>> t = ('a', 'b', 'c', 'd', 'e')\n",
    "# To create a tuple with a single element, you have to include a final comma:\n",
    ">>> t1 = 'a',\n",
    ">>> type(t1)"
   ]
  },
  {
   "cell_type": "markdown",
   "metadata": {},
   "source": [
    "A value in parentheses is not a tuple:"
   ]
  },
  {
   "cell_type": "code",
   "execution_count": 6,
   "metadata": {},
   "outputs": [
    {
     "data": {
      "text/plain": [
       "str"
      ]
     },
     "execution_count": 6,
     "metadata": {},
     "output_type": "execute_result"
    }
   ],
   "source": [
    ">>> t2 = ('a')\n",
    ">>> type(t2)"
   ]
  },
  {
   "cell_type": "markdown",
   "metadata": {},
   "source": [
    "Another way to create a tuple is the built-in function tuple. With no argument, it creates an empty tuple:"
   ]
  },
  {
   "cell_type": "code",
   "execution_count": 9,
   "metadata": {},
   "outputs": [
    {
     "name": "stdout",
     "output_type": "stream",
     "text": [
      "()\n"
     ]
    }
   ],
   "source": [
    ">>> t = tuple()\n",
    ">>> print (t)"
   ]
  },
  {
   "cell_type": "markdown",
   "metadata": {},
   "source": [
    "If the argument is a sequence (string, list or tuple), the result is a tuple with the elements of the sequence:"
   ]
  },
  {
   "cell_type": "code",
   "execution_count": 10,
   "metadata": {},
   "outputs": [
    {
     "name": "stdout",
     "output_type": "stream",
     "text": [
      "('l', 'u', 'p', 'i', 'n', 's')\n"
     ]
    }
   ],
   "source": [
    ">>> t = tuple('lupins')\n",
    ">>> print (t)"
   ]
  },
  {
   "cell_type": "markdown",
   "metadata": {},
   "source": [
    "Because tuple is the name of a built-in function, you should avoid using it as a variable name.\n",
    "Most list operators also work on tuples. The bracket operator indexes an element:"
   ]
  },
  {
   "cell_type": "code",
   "execution_count": 11,
   "metadata": {},
   "outputs": [
    {
     "name": "stdout",
     "output_type": "stream",
     "text": [
      "a\n"
     ]
    }
   ],
   "source": [
    ">>> t = ('a', 'b', 'c', 'd', 'e')\n",
    ">>> print (t[0])"
   ]
  },
  {
   "cell_type": "markdown",
   "metadata": {},
   "source": [
    "And the slice operator selects a range of elements."
   ]
  },
  {
   "cell_type": "code",
   "execution_count": 12,
   "metadata": {},
   "outputs": [
    {
     "name": "stdout",
     "output_type": "stream",
     "text": [
      "('b', 'c')\n"
     ]
    }
   ],
   "source": [
    ">>> print (t[1:3])"
   ]
  },
  {
   "cell_type": "markdown",
   "metadata": {},
   "source": [
    "But if you try to modify one of the elements of the tuple, you get an error:"
   ]
  },
  {
   "cell_type": "code",
   "execution_count": 22,
   "metadata": {},
   "outputs": [
    {
     "ename": "TypeError",
     "evalue": "'tuple' object does not support item assignment",
     "output_type": "error",
     "traceback": [
      "\u001b[0;31m---------------------------------------------------------------------------\u001b[0m",
      "\u001b[0;31mTypeError\u001b[0m                                 Traceback (most recent call last)",
      "\u001b[0;32m<ipython-input-22-86c0070a6d8c>\u001b[0m in \u001b[0;36m<module>\u001b[0;34m\u001b[0m\n\u001b[1;32m      1\u001b[0m \u001b[0;31m# But if you try to modify one of the elements of the tuple, you get an error:\u001b[0m\u001b[0;34m\u001b[0m\u001b[0;34m\u001b[0m\u001b[0;34m\u001b[0m\u001b[0m\n\u001b[0;32m----> 2\u001b[0;31m \u001b[0mt\u001b[0m\u001b[0;34m[\u001b[0m\u001b[0;36m0\u001b[0m\u001b[0;34m]\u001b[0m \u001b[0;34m=\u001b[0m \u001b[0;34m'A'\u001b[0m\u001b[0;34m\u001b[0m\u001b[0;34m\u001b[0m\u001b[0m\n\u001b[0m",
      "\u001b[0;31mTypeError\u001b[0m: 'tuple' object does not support item assignment"
     ]
    }
   ],
   "source": [
    ">>> t[0] = 'A'"
   ]
  },
  {
   "cell_type": "code",
   "execution_count": null,
   "metadata": {},
   "outputs": [],
   "source": [
    "You can’t modify the elements of a tuple, but you can replace one tuple with another:"
   ]
  },
  {
   "cell_type": "code",
   "execution_count": 17,
   "metadata": {},
   "outputs": [
    {
     "name": "stdout",
     "output_type": "stream",
     "text": [
      "('A', 'b', 'c', 'd', 'e')\n"
     ]
    }
   ],
   "source": [
    ">>> t = ('A',) + t[1:]\n",
    ">>> print (t)"
   ]
  },
  {
   "cell_type": "markdown",
   "metadata": {},
   "source": [
    "## 12.2 Tuple assignment\n",
    "\n",
    "It is often useful to swap the values of two variables. With conventional assignments, you have to use a temporary variable. For example, to swap a and b:"
   ]
  },
  {
   "cell_type": "code",
   "execution_count": null,
   "metadata": {},
   "outputs": [],
   "source": [
    ">>> temp = a\n",
    ">>> a = b\n",
    ">>> b = temp"
   ]
  },
  {
   "cell_type": "markdown",
   "metadata": {},
   "source": [
    "This solution is cumbersome; tuple assignment is more elegant:"
   ]
  },
  {
   "cell_type": "code",
   "execution_count": null,
   "metadata": {},
   "outputs": [],
   "source": [
    ">>> a, b = b, a"
   ]
  },
  {
   "cell_type": "markdown",
   "metadata": {},
   "source": [
    "The left side is a tuple of variables; the right side is a tuple of expressions. Each value is assigned to its respective variable. All the expressions on the right side are evaluated before any of the assignments.\n",
    "The number of variables on the left and the number of values on the right have to be the same:"
   ]
  },
  {
   "cell_type": "markdown",
   "metadata": {},
   "source": [
    ">>> a, b = 1, 2, 3"
   ]
  },
  {
   "cell_type": "markdown",
   "metadata": {},
   "source": [
    "More generally, the right side can be any kind of sequence (string, list or tuple). For exam- ple, to split an email address into a user name and a domain, you could write:"
   ]
  },
  {
   "cell_type": "code",
   "execution_count": 21,
   "metadata": {},
   "outputs": [
    {
     "name": "stdout",
     "output_type": "stream",
     "text": [
      "monty\n",
      "python.org\n"
     ]
    }
   ],
   "source": [
    ">>> addr = 'monty@python.org'\n",
    ">>> uname, domain = addr.split('@')\n",
    "# The return value from split is a list with two elements; the first element is assigned to uname, the second to domain.\n",
    ">>> print (uname)\n",
    ">>> print (domain)\n"
   ]
  },
  {
   "cell_type": "markdown",
   "metadata": {},
   "source": [
    "## 12.3 Tuples as return values\n",
    "\n",
    "Strictly speaking, a function can only return one value, but if the value is a tuple, the effect is the same as returning multiple values. For example, if you want to divide two integers and compute the quotient and remainder, it is inefficient to compute x/y and then x%y. It is better to compute them both at the same time.\n",
    "The built-in function divmod takes two arguments and returns a tuple of two values, the quotient and remainder. You can store the result as a tuple:"
   ]
  },
  {
   "cell_type": "code",
   "execution_count": 19,
   "metadata": {},
   "outputs": [
    {
     "name": "stdout",
     "output_type": "stream",
     "text": [
      "(2, 1)\n"
     ]
    }
   ],
   "source": [
    ">>> t = divmod(7, 3)\n",
    ">>> print (t)"
   ]
  },
  {
   "cell_type": "markdown",
   "metadata": {},
   "source": [
    "Or use tuple assignment to store the elements separately:"
   ]
  },
  {
   "cell_type": "code",
   "execution_count": null,
   "metadata": {},
   "outputs": [],
   "source": [
    ">>> quot, rem = divmod(7, 3)\n",
    ">>> print quot"
   ]
  },
  {
   "cell_type": "code",
   "execution_count": null,
   "metadata": {},
   "outputs": [],
   "source": [
    ">>> print rem"
   ]
  },
  {
   "cell_type": "markdown",
   "metadata": {},
   "source": [
    "Here is an example of a function that returns a tuple:"
   ]
  },
  {
   "cell_type": "code",
   "execution_count": null,
   "metadata": {},
   "outputs": [],
   "source": [
    "def min_max(t):\n",
    "    return min(t), max(t)"
   ]
  },
  {
   "cell_type": "markdown",
   "metadata": {},
   "source": [
    "***max*** and ***min*** are built-in functions that find the largest and smallest elements of a sequence. min_max computes both and returns a tuple of two values."
   ]
  },
  {
   "cell_type": "markdown",
   "metadata": {},
   "source": [
    "## 12.4 Variable-length argument tuples\n",
    "Functions can take a variable number of arguments. A parameter name that begins with * gathers arguments into a tuple. For example, printall takes any number of arguments and prints them:"
   ]
  },
  {
   "cell_type": "code",
   "execution_count": 27,
   "metadata": {},
   "outputs": [],
   "source": [
    "def printall(*args):\n",
    "    print (args)"
   ]
  },
  {
   "cell_type": "markdown",
   "metadata": {},
   "source": [
    "The gather parameter can have any name you like, but args is conventional. Here’s how the function works:"
   ]
  },
  {
   "cell_type": "code",
   "execution_count": 30,
   "metadata": {},
   "outputs": [
    {
     "name": "stdout",
     "output_type": "stream",
     "text": [
      "(1, 2.0, '3')\n"
     ]
    }
   ],
   "source": [
    "printall(1, 2.0, '3')"
   ]
  },
  {
   "cell_type": "markdown",
   "metadata": {},
   "source": [
    "The complement of gather is scatter. If you have a sequence of values and you want to pass it to a function as multiple arguments, you can use the * operator. For example, divmod takes exactly two arguments; it doesn’t work with a tuple:"
   ]
  },
  {
   "cell_type": "code",
   "execution_count": 50,
   "metadata": {},
   "outputs": [
    {
     "ename": "TypeError",
     "evalue": "divmod expected 2 arguments, got 1",
     "output_type": "error",
     "traceback": [
      "\u001b[0;31m---------------------------------------------------------------------------\u001b[0m",
      "\u001b[0;31mTypeError\u001b[0m                                 Traceback (most recent call last)",
      "\u001b[0;32m<ipython-input-50-b9b469f7c0ca>\u001b[0m in \u001b[0;36m<module>\u001b[0;34m\u001b[0m\n\u001b[1;32m      1\u001b[0m \u001b[0mt\u001b[0m \u001b[0;34m=\u001b[0m \u001b[0;34m(\u001b[0m\u001b[0;36m7\u001b[0m\u001b[0;34m,\u001b[0m \u001b[0;36m3\u001b[0m\u001b[0;34m)\u001b[0m\u001b[0;34m\u001b[0m\u001b[0;34m\u001b[0m\u001b[0m\n\u001b[0;32m----> 2\u001b[0;31m \u001b[0mdivmod\u001b[0m\u001b[0;34m(\u001b[0m\u001b[0mt\u001b[0m\u001b[0;34m)\u001b[0m\u001b[0;34m\u001b[0m\u001b[0;34m\u001b[0m\u001b[0m\n\u001b[0m",
      "\u001b[0;31mTypeError\u001b[0m: divmod expected 2 arguments, got 1"
     ]
    }
   ],
   "source": [
    ">>> t = (7, 3)\n",
    ">>> divmod(t)"
   ]
  },
  {
   "cell_type": "markdown",
   "metadata": {},
   "source": [
    "But if you scatter the tuple, it works:"
   ]
  },
  {
   "cell_type": "code",
   "execution_count": 51,
   "metadata": {},
   "outputs": [
    {
     "data": {
      "text/plain": [
       "(2, 1)"
      ]
     },
     "execution_count": 51,
     "metadata": {},
     "output_type": "execute_result"
    }
   ],
   "source": [
    ">>> divmod(*t)"
   ]
  },
  {
   "cell_type": "markdown",
   "metadata": {},
   "source": [
    "## Exercise 12.1. \n",
    "Many of the built-in functions use variable-length argument tuples. For example, max and min can take any number of arguments:"
   ]
  },
  {
   "cell_type": "code",
   "execution_count": null,
   "metadata": {},
   "outputs": [],
   "source": [
    ">>> max(1,2,3)"
   ]
  },
  {
   "cell_type": "markdown",
   "metadata": {},
   "source": [
    "But sum does not. "
   ]
  },
  {
   "cell_type": "code",
   "execution_count": null,
   "metadata": {},
   "outputs": [],
   "source": [
    ">>> sum(1,2,3)"
   ]
  },
  {
   "cell_type": "markdown",
   "metadata": {},
   "source": [
    "Write a function called sumall that takes any number of arguments and returns their sum."
   ]
  },
  {
   "cell_type": "code",
   "execution_count": 53,
   "metadata": {},
   "outputs": [
    {
     "data": {
      "text/plain": [
       "21"
      ]
     },
     "execution_count": 53,
     "metadata": {},
     "output_type": "execute_result"
    }
   ],
   "source": [
    "tp=(1,2,3,4,5,6)\n",
    "def sumall(*args):\n",
    "    sm=0\n",
    "    for i in args:\n",
    "        sm=sm+i\n",
    "    return sm\n",
    "\n",
    "sumall(*tp)"
   ]
  },
  {
   "cell_type": "markdown",
   "metadata": {},
   "source": [
    "## 12.5 Lists and tuples\n",
    "zip is a built-in function that takes two or more sequences and “zips” them into a list of tuples where each tuple contains one element from each sequence. In Python 3, zip returns an iterator of tuples, but for most purposes, an iterator behaves like a list.\n",
    "This example zips a string and a list:"
   ]
  },
  {
   "cell_type": "code",
   "execution_count": null,
   "metadata": {},
   "outputs": [],
   "source": [
    ">>> s = 'abc'\n",
    ">>> t = [0, 1, 2]\n",
    ">>> zip(s, t)"
   ]
  },
  {
   "cell_type": "markdown",
   "metadata": {},
   "source": [
    "The result is a list of tuples where each tuple contains a character from the string and the corresponding element from the list.\n",
    "If the sequences are not the same length, the result has the length of the shorter one."
   ]
  },
  {
   "cell_type": "code",
   "execution_count": null,
   "metadata": {},
   "outputs": [],
   "source": [
    ">>> zip('Anne', 'Elk')"
   ]
  },
  {
   "cell_type": "markdown",
   "metadata": {},
   "source": [
    "You can use tuple assignment in a for loop to traverse a list of tuples:"
   ]
  },
  {
   "cell_type": "code",
   "execution_count": null,
   "metadata": {},
   "outputs": [],
   "source": [
    "t =[('a', 0), ('b', 1), ('c', 2)]\n",
    "for letter, number in t:\n",
    "    print number, lettertem"
   ]
  },
  {
   "cell_type": "markdown",
   "metadata": {},
   "source": [
    "Each time through the loop, Python selects the next tuple in the list and assigns the ele- ments to letter and number. The output of this loop is:\n",
    "\n",
    "0a\n",
    "1b\n",
    "2c\n",
    "\n",
    "If you combine zip, for and tuple assignment, you get a useful idiom for traversing two (or more) sequences at the same time. For example, has_match takes two sequences, t1 and t2, and returns True if there is an index i such that t1[i] == t2[i]:\n",
    "\n",
    "    def has_match(t1, t2):\n",
    "        for x, y in zip(t1, t2):\n",
    "            if x == y:\n",
    "            return True\n",
    "            return False"
   ]
  },
  {
   "cell_type": "markdown",
   "metadata": {},
   "source": [
    "If you need to traverse the elements of a sequence and their indices, you can use the built-in function enumerate:\n",
    "for index, element in enumerate('abc'):\n",
    "print index, element\n",
    "The output of this loop is:\n",
    "0a\n",
    "1b\n",
    "2c\n",
    "Again.\n",
    "Dictionaries have a method called items that returns a list of tuples, where each tuple is a key-value pair.\n",
    ">>> d = {'a':0, 'b':1, 'c':2}\n",
    ">>> t = d.items()\n",
    ">>> print t\n",
    "[('a', 0), ('c', 2), ('b', 1)]\n",
    "\n",
    "As you should expect from a dictionary, the items are in no particular order. In Python 3, items returns an iterator, but for many purposes, iterators behave like lists.\n",
    "Going in the other direction, you can use a list of tuples to initialize a new dictionary:\n",
    "\n",
    ">>> t = [('a', 0), ('c', 2), ('b', 1)]\n",
    ">>> d = dict(t)\n",
    ">>> print d\n",
    "{'a': 0, 'c': 2, 'b': 1}"
   ]
  },
  {
   "cell_type": "markdown",
   "metadata": {},
   "source": [
    "Combining dict with zip yields a concise way to create a dictionary:\n",
    ">>> d = dict(zip('abc', range(3)))\n",
    ">>> print d\n",
    "{'a': 0, 'c': 2, 'b': 1}"
   ]
  },
  {
   "cell_type": "markdown",
   "metadata": {},
   "source": [
    "The dictionary method update also takes a list of tuples and adds them, as key-value pairs, to an existing dictionary.\n",
    "Combining items, tuple assignment and for, you get the idiom for traversing the keys and values of a dictionary:\n",
    "for key, val in d.items():\n",
    "print val, key\n",
    "The output of this loop is:\n",
    "0a\n",
    "2c\n",
    "1b\n",
    "Again.\n",
    "It is common to use tuples as keys in dictionaries (primarily because you can’t use lists). For example, a telephone directory might map from last-name, first-name pairs to telephone numbers. Assuming that we have defined last, first and number, we could write:\n",
    "directory[last,first] = number\n",
    "The expression in brackets is a tuple. We could use tuple assignment to traverse this dictionary.\n",
    "\n",
    "Chapter12. Tuples\n",
    "  dict\n",
    "tuple\n",
    "Figure 12.1: State diagram.\n",
    "0 ’Cleese’\n",
    "1 ’John’\n",
    " (’Cleese’, ’John’) (’Chapman’, ’Graham’) (’Idle’, ’Eric’) (’Gilliam’, ’Terry’) (’Jones’, ’Terry’) (’Palin’, ’Michael’)\n",
    "’08700 100 222’ ’08700 100 222’ ’08700 100 222’ ’08700 100 222’ ’08700 100 222’ ’08700 100 222’\n",
    "Figure 12.2: State diagram.\n",
    "for last, first in directory:\n",
    "print first, last, directory[last,first]\n",
    "This loop traverses the keys in directory, which are tuples. It assigns the elements of each tuple to last and first, then prints the name and corresponding telephone number.\n",
    "There are two ways to represent tuples in a state diagram. The more detailed version shows the indices and elements just as they appear in a list. For example, the tuple ('Cleese', 'John') would appear as in Figure 12.1.\n",
    "But in a larger diagram you might want to leave out the details. For example, a diagram of the telephone directory might appear as in Figure 12.2.\n",
    "Here the tuples are shown using Python syntax as a graphical shorthand.\n",
    "The telephone number in the diagram is the complaints line for the BBC, so please don’t call it.\n",
    "12.7 Comparing tuples\n",
    "The relational operators work with tuples and other sequences; Python starts by comparing the first element from each sequence. If they are equal, it goes on to the next elements, and so on, until it finds elements that differ. Subsequent elements are not considered (even if they are really big).\n",
    ">>> (0, 1, 2) < (0, 3, 4)\n",
    "True\n",
    ">>> (0, 1, 2000000) < (0, 3, 4)\n",
    "True\n",
    "The sort function works the same way. It sorts primarily by first element, but in the case of a tie, it sorts by second element, and so on.\n",
    "This feature lends itself to a pattern called DSU for\n",
    "\n",
    "12.8. Sequencesofsequences 119 Decorate a sequence by building a list of tuples with one or more sort keys preceding the\n",
    "elements from the sequence,\n",
    "Sort the list of tuples, and\n",
    "Undecorate by extracting the sorted elements of the sequence.\n",
    "For example, suppose you have a list of words and you want to sort them from longest to shortest:\n",
    "def sort_by_length(words):\n",
    "t = []\n",
    "for word in words:\n",
    "t.append((len(word), word))\n",
    "t.sort(reverse=True)\n",
    "res = []\n",
    "for length, word in t:\n",
    "res.append(word)\n",
    "return res\n",
    "The first loop builds a list of tuples, where each tuple is a word preceded by its length. sort compares the first element, length, first, and only considers the second element to\n",
    "break ties. The keyword argument reverse=True tells sort to go in decreasing order.\n",
    "The second loop traverses the list of tuples and builds a list of words in descending order of length.\n",
    "Exercise 12.2. In this example, ties are broken by comparing words, so words with the same length appear in reverse alphabetical order. For other applications you might want to break ties at ran- dom. Modify this example so that words with the same length appear in random order. Hint: see the random function in the random module. Solution: http: // thinkpython. com/ code/ unstable_ sort. py .\n",
    "12.8 Sequences of sequences\n",
    "I have focused on lists of tuples, but almost all of the examples in this chapter also work with lists of lists, tuples of tuples, and tuples of lists. To avoid enumerating the possible combinations, it is sometimes easier to talk about sequences of sequences.\n",
    "In many contexts, the different kinds of sequences (strings, lists and tuples) can be used interchangeably. So how and why do you choose one over the others?\n",
    "To start with the obvious, strings are more limited than other sequences because the ele- ments have to be characters. They are also immutable. If you need the ability to change the characters in a string (as opposed to creating a new string), you might want to use a list of characters instead.\n",
    "Lists are more common than tuples, mostly because they are mutable. But there are a few cases where you might prefer tuples:\n",
    "1. In some contexts, like a return statement, it is syntactically simpler to create a tuple than a list. In other contexts, you might prefer a list.\n",
    "2. If you want to use a sequence as a dictionary key, you have to use an immutable type like a tuple or string.\n",
    "3. If you are passing a sequence as an argument to a function, using tuples reduces the potential for unexpected behavior due to aliasing.\n",
    "Because tuples are immutable, they don’t provide methods like sort and reverse, which modify existing lists. But Python provides the built-in functions sorted and reversed, which take any sequence as a parameter and return a new list with the same elements in a different order.\n",
    "12.9 Debugging\n",
    "Lists, dictionaries and tuples are known generically as data structures; in this chapter we are starting to see compound data structures, like lists of tuples, and dictionaries that con- tain tuples as keys and lists as values. Compound data structures are useful, but they are prone to what I call shape errors; that is, errors caused when a data structure has the wrong type, size or composition. For example, if you are expecting a list with one integer and I give you a plain old integer (not in a list), it won’t work.\n",
    "To help debug these kinds of errors, I have written a module called structshape that provides a function, also called structshape, that takes any kind of data structure as an argument and returns a string that summarizes its shape. You can download it from http://thinkpython.com/code/structshape.py\n",
    "Here’s the result for a simple list:\n",
    ">>> from structshape import structshape\n",
    ">>> t = [1,2,3]\n",
    ">>> print structshape(t)\n",
    "list of 3 int\n",
    "A fancier program might write “list of 3 ints,” but it was easier not to deal with plurals. Here’s a list of lists:\n",
    ">>> t2 = [[1,2], [3,4], [5,6]]\n",
    ">>> print structshape(t2)\n",
    "list of 3 list of 2 int\n",
    "If the elements of the list are not the same type, structshape groups them, in order, by type:\n",
    ">>> t3 = [1, 2, 3, 4.0, '5', '6', [7], [8], 9]\n",
    ">>> print structshape(t3)\n",
    "list of (3 int, float, 2 str, 2 list of int, int)\n",
    "Here’s a list of tuples:\n",
    ">>> s = 'abc'\n",
    ">>> lt = zip(t, s)\n",
    ">>> print structshape(lt)\n",
    "list of 3 tuple of (int, str)\n",
    "And here’s a dictionary with 3 items that map integers to strings.\n",
    ">>> d = dict(lt)\n",
    ">>> print structshape(d)\n",
    "dict of 3 int->str\n",
    "If you are having trouble keeping track of your data structures, structshape can help."
   ]
  },
  {
   "cell_type": "code",
   "execution_count": 77,
   "metadata": {},
   "outputs": [],
   "source": [
    "def histogram(s):\n",
    "    d=dict()\n",
    "    for c in s:\n",
    "        d[c]= d.get(c, 0)+1\n",
    "    return d"
   ]
  },
  {
   "cell_type": "markdown",
   "metadata": {},
   "source": [
    "## 12.10 Glossary\n",
    "tuple: An immutable sequence of elements.\n",
    "tuple assignment: An assignment with a sequence on the right side and a tuple of vari- ables on the left. The right side is evaluated and then its elements are assigned to the variables on the left.\n",
    "gather: The operation of assembling a variable-length argument tuple.\n",
    "scatter: The operation of treating a sequence as a list of arguments.\n",
    "DSU: Abbreviation of “decorate-sort-undecorate,” a pattern that involves building a list of tuples, sorting, and extracting part of the result.\n",
    "data structure: A collection of related values, often organized in lists, dictionaries, tuples, etc.\n",
    "shape (of a data structure): A summary of the type, size and composition of a data struc- ture.\n",
    "## 12.11 Exercises\n",
    "Exercise 12.3. Write a function called most_frequent that takes a string and prints the letters in decreasing order of frequency. Find text samples from several different languages and see how letter frequency varies between languages. Compare your results with the tables at http://en.wikipedia.org/wiki/Letter_frequencies. Solution: http://thinkpython.com/code/most_frequent.py ."
   ]
  },
  {
   "cell_type": "code",
   "execution_count": 149,
   "metadata": {},
   "outputs": [],
   "source": [
    "def most_frequent(text):\n",
    "    lang_sample=open(text).read()\n",
    "    temp=''\n",
    "    for char in lang_sample:\n",
    "            if char.isalpha():\n",
    "                temp=temp+char.lower()\n",
    "    hist=histogram(temp)\n",
    "    inv_temp={}\n",
    "    for a,b in hist.items():\n",
    "        inv_temp[b]=a\n",
    "    while len(inv_temp)>0:\n",
    "        maxval = inv_temp[max(inv_temp)]\n",
    "        print(maxval)\n",
    "        del inv_temp[max(inv_temp)]"
   ]
  },
  {
   "cell_type": "code",
   "execution_count": 147,
   "metadata": {},
   "outputs": [],
   "source": [
    "def most_frequent2(text):\n",
    "    lang_sample=open(text).read()\n",
    "    tmp=''\n",
    "    for char in lang_sample:\n",
    "        if char.isalpha():\n",
    "            tmp=tmp+char.lower()    \n",
    "    hist=histogram(tmp)\n",
    "    chr_freq=[]\n",
    "    for a,b in hist.items():\n",
    "        chr_freq.append((b,a))       \n",
    "    chr_freq.sort(reverse=True)\n",
    "    for a,b in chr_freq:\n",
    "        print (b)"
   ]
  },
  {
   "cell_type": "markdown",
   "metadata": {},
   "source": [
    "Exercise 12.4. More anagrams!\n",
    "1. Write a program that reads a word list from a file (see Section 9.1) and prints all the sets of\n",
    "words that are anagrams.\n",
    "Here is an example of what the output might look like:\n",
    "['deltas', 'desalt', 'lasted', 'salted', 'slated', 'staled']\n",
    "['retainers', 'ternaries']\n",
    "['generating', 'greatening']\n",
    "['resmelts', 'smelters', 'termless']\n",
    "Hint: you might want to build a dictionary that maps from a set of letters to a list of words that can be spelled with those letters. The question is, how can you represent the set of letters in a way that can be used as a key?\n",
    "2. Modify the previous program so that it prints the largest set of anagrams first,followed by the second largest set, and so on.\n",
    "3. In Scrabble a “bingo” is when you play all seven tiles in your rack, along with a letter on the board, to form an eight-letter word. What set of 8 letters forms the most possible bingos? Hint: there are seven.\n",
    "Solution: http://thinkpython.com/code/anagram_sets.py ."
   ]
  },
  {
   "cell_type": "code",
   "execution_count": 209,
   "metadata": {},
   "outputs": [],
   "source": [
    "fin=open('Files/words.txt')\n",
    "raw_ana={}\n",
    "anagrams=[]\n",
    "for line in fin:\n",
    "    line=line.strip()\n",
    "    temp=tuple(sorted(line))\n",
    "    raw_ana.setdefault(temp,[]).append(line)\n",
    "for key,val in raw_ana.items():\n",
    "    \n",
    "    if len(val)>1:\n",
    "        anagrams.append((len(val),*val))\n",
    "        \n",
    "\n",
    "anagrams.sort(reverse=True)"
   ]
  },
  {
   "cell_type": "code",
   "execution_count": 260,
   "metadata": {},
   "outputs": [],
   "source": [
    "# anagrams[:]"
   ]
  },
  {
   "cell_type": "code",
   "execution_count": 257,
   "metadata": {},
   "outputs": [],
   "source": [
    "# for i in anagrams:\n",
    "#     bingo=i[1][0]\n",
    "#     if len(bingo)== 8:\n",
    "#         print(i)"
   ]
  },
  {
   "cell_type": "code",
   "execution_count": 258,
   "metadata": {},
   "outputs": [
    {
     "data": {
      "text/plain": [
       "False"
      ]
     },
     "execution_count": 258,
     "metadata": {},
     "output_type": "execute_result"
    }
   ],
   "source": [
    "'conserve' in anagrams"
   ]
  },
  {
   "cell_type": "markdown",
   "metadata": {},
   "source": [
    "Exercise 12.5. Two words form a “metathesis pair” if you can transform one into the other by swapping two letters; for example, “converse” and “conserve.” Write a program that finds all of the metathesis pairs in the dictionary. Hint: don’t test all pairs of words, and don’t test all possible swaps. Solution: http://thinkpython.com/code/metathesis.py . Credit: This exercise is inspired by an example at http: // puzzlers. org ."
   ]
  },
  {
   "cell_type": "code",
   "execution_count": 265,
   "metadata": {},
   "outputs": [],
   "source": [
    "def is_metathesis(word_a, word_b):\n",
    "    diff=0\n",
    "    for a,b in zip(word_a, word_b):\n",
    "        if a!=b: \n",
    "            diff+=1\n",
    "\n",
    "    if diff==2:\n",
    "        return True"
   ]
  },
  {
   "cell_type": "code",
   "execution_count": 277,
   "metadata": {},
   "outputs": [],
   "source": [
    "metathesis_pairs=[]\n",
    "for i in anagrams:\n",
    "    for j in i[1]\n",
    "        for h in i[1]:\n",
    "            if is_metathesis(j,h)==True:\n",
    "                metathesis_pairs.append((j,h))\n",
    "        \n",
    "        \n",
    "# metathesis_pairs        "
   ]
  },
  {
   "cell_type": "code",
   "execution_count": 278,
   "metadata": {},
   "outputs": [
    {
     "data": {
      "text/plain": [
       "True"
      ]
     },
     "execution_count": 278,
     "metadata": {},
     "output_type": "execute_result"
    }
   ],
   "source": [
    "('converse', 'conserve') in metathesis_pairs"
   ]
  },
  {
   "cell_type": "markdown",
   "metadata": {},
   "source": [
    "Exercise 12.6. Here’s another Car Talk Puzzler (http: // www. cartalk. com/ content/ puzzlers ):\n",
    "What is the longest English word, that remains a valid English word, as you remove its letters one at a time?\n",
    "Now, letters can be removed from either end, or the middle, but you can’t rearrange any of the letters. Every time you drop a letter, you wind up with another English word. If you do that, you’re eventually going to wind up with one letter and that too is going to be an English word—one that’s found in the dictionary. I want to know what’s the longest word and how many letters does it have?\n",
    "I’m going to give you a little modest example: Sprite. Ok? You start off with sprite, you take a letter off, one from the interior of the word, take the r away, and we’re left with the word spite, then we take the e off the end, we’re left with spit, we take the s off, we’re left with pit, it, and I.\n",
    "Write a program to find all words that can be reduced in this way, and then find the longest one. This exercise is a little more challenging than most, so here are some suggestions:\n",
    "1. You might want to write a function that takes a word and computes a list of all the words that can be formed by removing one letter. These are the “children” of the word.\n",
    "2. Recursively, a word is reducible if any of its children are reducible. As a base case, you can consider the empty string reducible.\n",
    "3. The wordlist I provided, words.txt, doesn’t contain single letter words. So you might want to add “I”, “a”, and the empty string.\n",
    "4. To improve the performance of your program, you might want to memoize the words that are known to be reducible.\n",
    "Solution: http://thinkpython.com/code/reducible.py ."
   ]
  },
  {
   "cell_type": "code",
   "execution_count": 38,
   "metadata": {},
   "outputs": [],
   "source": [
    "fin=open('Files/words.txt')"
   ]
  },
  {
   "cell_type": "code",
   "execution_count": 39,
   "metadata": {},
   "outputs": [],
   "source": [
    "word_dict=dict()\n",
    "for line in fin:\n",
    "    line=line.strip()\n",
    "    word_dict[line]=line\n",
    "word_dict['i']=\"i\"\n",
    "word_dict['a']='a'\n",
    "word_dict['']=''"
   ]
  },
  {
   "cell_type": "code",
   "execution_count": 40,
   "metadata": {},
   "outputs": [],
   "source": [
    "def make_child_ls(w):\n",
    "    children=list()\n",
    "    for i in range(len(w)):\n",
    "        child=w[:i]+w[i+1:]\n",
    "        if child in word_dict:\n",
    "            children.append(child)\n",
    "    return children"
   ]
  },
  {
   "cell_type": "code",
   "execution_count": 43,
   "metadata": {},
   "outputs": [],
   "source": [
    "def is_reducible(w):\n",
    "    if len(w)<=1:\n",
    "        return True\n",
    "    children=make_child_ls(w)\n",
    "    for child in children:\n",
    "        w=child\n",
    "        return is_reducible(w)\n",
    "    return False"
   ]
  },
  {
   "cell_type": "code",
   "execution_count": 75,
   "metadata": {
    "scrolled": false
   },
   "outputs": [],
   "source": [
    "known=dict()"
   ]
  },
  {
   "cell_type": "code",
   "execution_count": 49,
   "metadata": {},
   "outputs": [],
   "source": [
    "for word in word_dict:\n",
    "    if is_reducible(word)==True:  \n",
    "        known[word]=word\n"
   ]
  },
  {
   "cell_type": "code",
   "execution_count": 50,
   "metadata": {},
   "outputs": [],
   "source": [
    "longest=(0,'a')\n",
    "for i in known:\n",
    "    if len(i)>longest[0]:\n",
    "        longest=len(i),i"
   ]
  },
  {
   "cell_type": "code",
   "execution_count": 52,
   "metadata": {},
   "outputs": [
    {
     "data": {
      "text/plain": [
       "(11, 'complecting')"
      ]
     },
     "execution_count": 52,
     "metadata": {},
     "output_type": "execute_result"
    }
   ],
   "source": [
    "longest"
   ]
  },
  {
   "cell_type": "code",
   "execution_count": 66,
   "metadata": {},
   "outputs": [],
   "source": [
    "def print_child_tree(word):\n",
    "    if len(word)<=1:\n",
    "        return\n",
    "    for i in make_child_ls(word):\n",
    "        if is_reducible(i)==True:\n",
    "            print(i)\n",
    "            word=i\n",
    "            return print_child_tree(word)"
   ]
  },
  {
   "cell_type": "code",
   "execution_count": 67,
   "metadata": {},
   "outputs": [
    {
     "name": "stdout",
     "output_type": "stream",
     "text": [
      "completing\n",
      "competing\n",
      "compting\n",
      "comping\n",
      "coping\n",
      "oping\n",
      "ping\n",
      "pig\n",
      "pi\n",
      "i\n"
     ]
    }
   ],
   "source": [
    "print_child_tree('complecting')"
   ]
  },
  {
   "cell_type": "markdown",
   "metadata": {},
   "source": [
    "### Allen's Code"
   ]
  },
  {
   "cell_type": "code",
   "execution_count": 73,
   "metadata": {},
   "outputs": [],
   "source": [
    "\"\"\"This module contains code from\n",
    "Think Python by Allen B. Downey\n",
    "http://thinkpython.com\n",
    "\n",
    "Copyright 2012 Allen B. Downey\n",
    "License: GNU GPLv3 http://www.gnu.org/licenses/gpl.html\n",
    "\n",
    "\"\"\"\n",
    "\n",
    "def make_word_dict():\n",
    "    \"\"\"Reads the words in words.txt and returns a dictionary\n",
    "    that contains the words as keys.\"\"\"\n",
    "    d = dict()\n",
    "    fin = open('Files/words.txt')\n",
    "    for line in fin:\n",
    "        word = line.strip().lower()\n",
    "        d[word] = word\n",
    "\n",
    "    # have to add single letter words to the word list;\n",
    "    # also, the empty string is considered a word.\n",
    "    for letter in ['a', 'i', '']:\n",
    "        d[letter] = letter\n",
    "    return d\n",
    "\n",
    "\n",
    "\"\"\"memo is a dictionary that maps from each word that is known\n",
    "to be reducible to a list of its reducible children.  It starts\n",
    "with the empty string.\"\"\"\n",
    "\n",
    "memo = {}\n",
    "memo[''] = ['']\n",
    "\n",
    "\n",
    "def is_reducible(word, word_dict):\n",
    "    \"\"\"If word is reducible, returns a list of its reducible children.\n",
    "\n",
    "    Also adds an entry to the memo dictionary.\n",
    "\n",
    "    A string is reducible if it has at least one child that is \n",
    "    reducible.  The empty string is also reducible.\n",
    "\n",
    "    word: string\n",
    "    word_dict: dictionary with words as keys\n",
    "    \"\"\"\n",
    "     # if have already checked this word, return the answer\n",
    "    if word in memo:\n",
    "        return memo[word]\n",
    "\n",
    "    # check each of the children and make a list of the reducible ones\n",
    "    res = []\n",
    "    for child in children(word, word_dict):\n",
    "        t = is_reducible(child, word_dict)\n",
    "        if t:\n",
    "            res.append(child)\n",
    "\n",
    "    # memoize and return the result\n",
    "    memo[word] = res\n",
    "    return res\n",
    "\n",
    "\n",
    "def children(word, word_dict):\n",
    "    \"\"\"Returns a list of all words that can be formed by removing one letter.\n",
    "\n",
    "    word: string\n",
    "\n",
    "    Returns: list of strings\n",
    "    \"\"\"\n",
    "    res = []\n",
    "    for i in range(len(word)):\n",
    "        child = word[:i] + word[i+1:]\n",
    "        if child in word_dict:\n",
    "            res.append(child)\n",
    "    return res\n",
    "\n",
    "\n",
    "def all_reducible(word_dict):\n",
    "    \"\"\"Checks all words in the word_dict; returns a list reducible ones.\n",
    "\n",
    "    word_dict: dictionary with words as keys\n",
    "    \"\"\"\n",
    "    res = []\n",
    "    for word in word_dict:\n",
    "        t = is_reducible(word, word_dict)\n",
    "        if t != []:\n",
    "            res.append(word)\n",
    "    return res\n",
    "\n",
    "\n",
    "def print_trail(word):\n",
    "    \"\"\"Prints the sequence of words that reduces this word to the empty string.\n",
    "\n",
    "    If there is more than one choice, it chooses the first.\n",
    "\n",
    "    word: string\n",
    "    \"\"\"\n",
    "    if len(word) == 0:\n",
    "        return\n",
    "    print (word),\n",
    "    t = is_reducible(word, word_dict)\n",
    "    print_trail(t[0])\n",
    "\n",
    "\n",
    "def print_longest_words(word_dict):\n",
    "    words = all_reducible(word_dict)\n",
    "\n",
    "    # use DSU to sort by word length\n",
    "    t = []\n",
    "    for word in words:\n",
    "        t.append((len(word), word))\n",
    "    t.sort(reverse=True)\n",
    "\n",
    "    # print the longest 5 words\n",
    "    for length, word in t[0:5]:\n",
    "        print_trail(word)\n",
    "        print ('\\n')"
   ]
  },
  {
   "cell_type": "code",
   "execution_count": 76,
   "metadata": {},
   "outputs": [],
   "source": [
    "# To try Allen's code uncomment lines below:\n",
    "# word_dict = make_word_dict()\n",
    "# print_longest_words(word_dict)"
   ]
  },
  {
   "cell_type": "code",
   "execution_count": null,
   "metadata": {},
   "outputs": [],
   "source": [
    "# This script prints recursion number with extra indentation for each iteration\n",
    "count=' '\n",
    "def recursion(i):\n",
    "    global count\n",
    "\n",
    "    if i==5:\n",
    "        \n",
    "        count=' '\n",
    "        return i\n",
    "    count=count+' '\n",
    "    i+=1\n",
    "    print(count+str(i))\n",
    "    return recursion(i)"
   ]
  },
  {
   "cell_type": "code",
   "execution_count": null,
   "metadata": {},
   "outputs": [],
   "source": []
  }
 ],
 "metadata": {
  "kernelspec": {
   "display_name": "Python 3",
   "language": "python",
   "name": "python3"
  },
  "language_info": {
   "codemirror_mode": {
    "name": "ipython",
    "version": 3
   },
   "file_extension": ".py",
   "mimetype": "text/x-python",
   "name": "python",
   "nbconvert_exporter": "python",
   "pygments_lexer": "ipython3",
   "version": "3.8.2"
  }
 },
 "nbformat": 4,
 "nbformat_minor": 4
}
