{
 "cells": [
  {
   "cell_type": "markdown",
   "metadata": {},
   "source": [
    "# Chapter 13\n",
    "## Case study: data structure selection\n",
    "## 13.1 Word frequency analysis\n",
    "As usual, you should at least attempt the following exercises before you read my solutions.\n",
    "### Exercise 13.1. \n",
    "Write a program that reads a file, breaks each line into words, strips whitespace and punctuation from the words, and converts them to lowercase.\n",
    "Hint: The string module provides strings named whitespace, which contains space, tab, newline, etc., and punctuation which contains the punctuation characters. Let’s see if we can make Python swear:"
   ]
  },
  {
   "cell_type": "code",
   "execution_count": 1,
   "metadata": {},
   "outputs": [
    {
     "name": "stdout",
     "output_type": "stream",
     "text": [
      "!\"#$%&'()*+,-./:;<=>?@[\\]^_`{|}~\n"
     ]
    }
   ],
   "source": [
    ">>> import string\n",
    ">>> print (string.punctuation)"
   ]
  },
  {
   "cell_type": "code",
   "execution_count": 2,
   "metadata": {
    "scrolled": false
   },
   "outputs": [],
   "source": [
    "to_strip=string.punctuation+string.whitespace\n",
    "fin=open('Files/languages_samples/eng.txt')\n",
    "t=''\n",
    "for line in fin:\n",
    "    line=line.split()\n",
    "    for word in line:\n",
    "        word=word.strip(to_strip+'”“')\n",
    "#         print(word.lower())"
   ]
  },
  {
   "cell_type": "markdown",
   "metadata": {},
   "source": [
    "Also, you might consider using the string methods strip, replace and translate.\n",
    "### Exercise 13.2.  \n",
    "Go to Project Gutenberg (http: // gutenberg. org ) and download your favorite out-of-copyright book in plain text format.\n",
    "Modify your program from the previous exercise to read the book you downloaded, skip over the header information at the beginning of the file, and process the rest of the words as before.\n",
    "Then modify the program to count the total number of words in the book, and the number of times each word is used.\n",
    "Print the number of different words used in the book. Compare different books by different authors, written in different eras. Which author uses the most extensive vocabulary?"
   ]
  },
  {
   "cell_type": "code",
   "execution_count": 170,
   "metadata": {
    "scrolled": false
   },
   "outputs": [
    {
     "name": "stdout",
     "output_type": "stream",
     "text": [
      "10158\n"
     ]
    }
   ],
   "source": [
    "def make_word_histogram_from_book(filename):\n",
    "    to_strip=string.punctuation+string.whitespace\n",
    "    fin=open(filename)\n",
    "    t=dict()\n",
    "    for line in fin:\n",
    "        line=line.replace('-',' ')\n",
    "        line=line.split()\n",
    "        for word in line:\n",
    "            word=word.strip(to_strip+'”“').lower()\n",
    "            t.setdefault(word,0)\n",
    "            t[word]+=1\n",
    "    return t\n",
    "t=make_word_histogram_from_book('Files/Books/Dickens.txt')\n",
    "print(len(t))"
   ]
  },
  {
   "cell_type": "markdown",
   "metadata": {},
   "source": [
    "### Exercise 13.3. \n",
    "Modify the program from the previous exercise to print the 20 most frequently-used words in the book."
   ]
  },
  {
   "cell_type": "code",
   "execution_count": 4,
   "metadata": {},
   "outputs": [],
   "source": [
    "tt=[(val,key) for (key,val) in t.items()]"
   ]
  },
  {
   "cell_type": "code",
   "execution_count": 5,
   "metadata": {},
   "outputs": [],
   "source": [
    "tt.sort(reverse=True)"
   ]
  },
  {
   "cell_type": "code",
   "execution_count": 6,
   "metadata": {},
   "outputs": [
    {
     "data": {
      "text/plain": [
       "[(8225, 'the'),\n",
       " (5066, 'and'),\n",
       " (4131, 'of'),\n",
       " (3651, 'to'),\n",
       " (3012, 'a'),\n",
       " (2660, 'in'),\n",
       " (2044, 'it'),\n",
       " (2011, 'his'),\n",
       " (1945, 'i'),\n",
       " (1926, 'that'),\n",
       " (1847, 'he'),\n",
       " (1774, 'was'),\n",
       " (1469, 'you'),\n",
       " (1356, 'with'),\n",
       " (1306, 'had'),\n",
       " (1174, 'as'),\n",
       " (1048, 'at'),\n",
       " (1045, 'her'),\n",
       " (986, 'for'),\n",
       " (976, 'him')]"
      ]
     },
     "execution_count": 6,
     "metadata": {},
     "output_type": "execute_result"
    }
   ],
   "source": [
    "tt[:20]"
   ]
  },
  {
   "cell_type": "markdown",
   "metadata": {},
   "source": [
    "### Exercise 13.4.\n",
    "Modify the previous program to read a word list (see Section 9.1) and then print all the words in the book that are not in the word list. How many of them are typos? How many of them are common words that should be in the word list, and how many of them are really obscure?"
   ]
  },
  {
   "cell_type": "code",
   "execution_count": 54,
   "metadata": {},
   "outputs": [],
   "source": [
    "not_in_word_list=[]\n",
    "word_dict=dict()\n",
    "f=open('Files/words.txt')\n",
    "for line in f:\n",
    "    word=line.strip('\\n')\n",
    "    word_dict[word]=word"
   ]
  },
  {
   "cell_type": "code",
   "execution_count": 55,
   "metadata": {},
   "outputs": [],
   "source": [
    "for line in t:\n",
    "    if line not in word_dict:\n",
    "        not_in_word_list.append(line)"
   ]
  },
  {
   "cell_type": "code",
   "execution_count": 64,
   "metadata": {},
   "outputs": [
    {
     "data": {
      "text/plain": [
       "['a', 'i', 'ii', 'iii', 'iv']"
      ]
     },
     "execution_count": 64,
     "metadata": {},
     "output_type": "execute_result"
    }
   ],
   "source": [
    "# print(not_in_word_list)\n",
    "# l=0\n",
    "# while l<=20:\n",
    "#     for i in enumerate(word_dict):\n",
    "#         a,b=i[0],i[1]        \n",
    "#         l=a\n",
    "#         print(l)\n",
    "    \n",
    "# print('abacuses\\n'.strip('\\n'))  \n",
    "not_in_word_list[:5]"
   ]
  },
  {
   "cell_type": "code",
   "execution_count": 62,
   "metadata": {},
   "outputs": [
    {
     "data": {
      "text/plain": [
       "True"
      ]
     },
     "execution_count": 62,
     "metadata": {},
     "output_type": "execute_result"
    }
   ],
   "source": [
    "'substance' not in word_dict"
   ]
  },
  {
   "cell_type": "markdown",
   "metadata": {},
   "source": [
    "Given the same inputs, most computer programs generate the same outputs every time, so they are said to be deterministic. Determinism is usually a good thing, since we expect the same calculation to yield the same result. For some applications, though, we want the computer to be unpredictable. Games are an obvious example, but there are more.\n",
    "Making a program truly nondeterministic turns out to be not so easy, but there are ways to make it at least seem nondeterministic. One of them is to use algorithms that generate pseudorandom numbers. Pseudorandom numbers are not truly random because they are generated by a deterministic computation, but just by looking at the numbers it is all but impossible to distinguish them from random.\n",
    "The random module provides functions that generate pseudorandom numbers (which I will simply call “random” from here on).\n",
    "The function random returns a random float between 0.0 and 1.0 (including 0.0 but not 1.0). Each time you call random, you get the next number in a long series. To see a sample, run this loop:\n",
    "import random\n",
    "for i in range(10):\n",
    "x = random.random()\n",
    "print x\n",
    "The function randint takes parameters low and high and returns an integer between low and high (including both)."
   ]
  },
  {
   "cell_type": "code",
   "execution_count": 65,
   "metadata": {},
   "outputs": [],
   "source": [
    "import random"
   ]
  },
  {
   "cell_type": "code",
   "execution_count": 66,
   "metadata": {},
   "outputs": [
    {
     "data": {
      "text/plain": [
       "9"
      ]
     },
     "execution_count": 66,
     "metadata": {},
     "output_type": "execute_result"
    }
   ],
   "source": [
    ">>> random.randint(5, 10)"
   ]
  },
  {
   "cell_type": "code",
   "execution_count": 67,
   "metadata": {},
   "outputs": [
    {
     "data": {
      "text/plain": [
       "9"
      ]
     },
     "execution_count": 67,
     "metadata": {},
     "output_type": "execute_result"
    }
   ],
   "source": [
    ">>> random.randint(5, 10)"
   ]
  },
  {
   "cell_type": "code",
   "execution_count": 68,
   "metadata": {},
   "outputs": [],
   "source": [
    "# To choose an element from a sequence at random, you can use choice: \n",
    ">>> t = [1, 2, 3]"
   ]
  },
  {
   "cell_type": "code",
   "execution_count": 78,
   "metadata": {},
   "outputs": [
    {
     "data": {
      "text/plain": [
       "1"
      ]
     },
     "execution_count": 78,
     "metadata": {},
     "output_type": "execute_result"
    }
   ],
   "source": [
    ">>> random.choice(t)"
   ]
  },
  {
   "cell_type": "code",
   "execution_count": 79,
   "metadata": {},
   "outputs": [
    {
     "data": {
      "text/plain": [
       "3"
      ]
     },
     "execution_count": 79,
     "metadata": {},
     "output_type": "execute_result"
    }
   ],
   "source": [
    ">>> random.choice(t)"
   ]
  },
  {
   "cell_type": "markdown",
   "metadata": {},
   "source": [
    "The random module also provides functions to generate random values from continuous distributions including Gaussian, exponential, gamma, and a few more.\n",
    "### Exercise 13.5. \n",
    "Write a function named choose_from_hist that takes a histogram as defined in Section 11.1 and returns a random value from the histogram, chosen with probability in proportion to frequency. For example, for this histogram:"
   ]
  },
  {
   "cell_type": "code",
   "execution_count": 107,
   "metadata": {},
   "outputs": [],
   "source": [
    "def histogram(s):\n",
    "    d=dict()\n",
    "    for c in s:\n",
    "        d[c]= d.get(c, 0)+1\n",
    "    return d"
   ]
  },
  {
   "cell_type": "code",
   "execution_count": 108,
   "metadata": {},
   "outputs": [
    {
     "name": "stdout",
     "output_type": "stream",
     "text": [
      "{'a': 2, 'b': 1}\n"
     ]
    }
   ],
   "source": [
    ">>> t = ['a', 'a', 'b']\n",
    ">>> hist = histogram(t)\n",
    ">>> print (hist)"
   ]
  },
  {
   "cell_type": "markdown",
   "metadata": {},
   "source": [
    "your function should return 'a' with probability 2/3 and 'b' with probability 1/3."
   ]
  },
  {
   "cell_type": "code",
   "execution_count": 105,
   "metadata": {},
   "outputs": [
    {
     "data": {
      "text/plain": [
       "1000"
      ]
     },
     "execution_count": 105,
     "metadata": {},
     "output_type": "execute_result"
    }
   ],
   "source": [
    "# Here i try to see if my slution works:\n",
    "random_test=[]\n",
    "for i in range(1000):\n",
    "    tm=random.choice(t)\n",
    "    random_test.append(tm)\n",
    "hist_test={}\n",
    "for i in random_test:\n",
    "    hist_test.setdefault(i,0)\n",
    "    hist_test[i]=hist_test[i]+1\n",
    "hist_test    "
   ]
  },
  {
   "cell_type": "markdown",
   "metadata": {},
   "source": [
    "It works!"
   ]
  },
  {
   "cell_type": "code",
   "execution_count": 114,
   "metadata": {},
   "outputs": [],
   "source": [
    "# Here i implement it.\n",
    "# Take histogram and turn it into a list were keys from the hist repeat times the value of it.\n",
    "def choose_from_hist(hist):\n",
    "    from random import choice\n",
    "    t=[]\n",
    "    for i in hist:\n",
    "        t.extend(i*hist[i])  \n",
    "\n",
    "# Use random.choice(key) to get the key with probability proportional to its frequency.\n",
    "    return random.choice(t)"
   ]
  },
  {
   "cell_type": "code",
   "execution_count": 124,
   "metadata": {},
   "outputs": [
    {
     "data": {
      "text/plain": [
       "'b'"
      ]
     },
     "execution_count": 124,
     "metadata": {},
     "output_type": "execute_result"
    }
   ],
   "source": [
    "choose_from_hist(hist)"
   ]
  },
  {
   "cell_type": "markdown",
   "metadata": {},
   "source": [
    "You should attempt the previous exercises before you go on. You can download my solution from http://greenteapress.com/thinkpython/code/analyze_book.py. You will also need http://greenteapress.com/thinkpython/code/emma.txt.\n",
    "Here is a program that reads a file and builds a histogram of the words in the file:"
   ]
  },
  {
   "cell_type": "code",
   "execution_count": null,
   "metadata": {},
   "outputs": [],
   "source": [
    "import string\n",
    "def process_file(filename):\n",
    "    hist = dict()\n",
    "    fp = open(filename)\n",
    "    for line in fp:\n",
    "        process_line(line, hist)\n",
    "    return hist\n",
    "def process_line(line, hist):\n",
    "    line = line.replace('-', ' ')\n",
    "    for word in line.split():\n",
    "        word = word.strip(string.punctuation + string.whitespace)\n",
    "        word = word.lower()\n",
    "        hist[word] = hist.get(word, 0) + 1\n",
    "hist = process_file('emma.txt')"
   ]
  },
  {
   "cell_type": "markdown",
   "metadata": {},
   "source": [
    "This program reads emma.txt, which contains the text of Emma by Jane Austen. process_file loops through the lines of the file, passing them one at a time to\n",
    "process_line. The histogram hist is being used as an accumulator.\n",
    "process_line uses the string method replace to replace hyphens with spaces before using split to break the line into a list of strings. It traverses the list of words and uses strip and lower to remove punctuation and convert to lower case. (It is a shorthand to say that strings are “converted;” remember that string are immutable, so methods like strip and lower return new strings.)\n",
    "Finally, process_line updates the histogram by creating a new item or incrementing an existing one.\n",
    "To count the total number of words in the file, we can add up the frequencies in the his- togram:\n",
    "def total_words(hist):\n",
    "return sum(hist.values())\n",
    "The number of different words is just the number of items in the dictionary:\n",
    "def different_words(hist):\n",
    "return len(hist)\n",
    "Here is some code to print the results:\n",
    "print 'Total number of words:', total_words(hist)\n",
    "print 'Number of different words:', different_words(hist)\n",
    " \n",
    "\n",
    "And the results:\n",
    "Total number of words: 161080\n",
    "Number of different words: 7214\n",
    "Most common words\n",
    "To find the most common words, we can apply the DSU pattern; most_common takes a histogram and returns a list of word-frequency tuples, sorted in reverse order by frequency:"
   ]
  },
  {
   "cell_type": "code",
   "execution_count": null,
   "metadata": {},
   "outputs": [],
   "source": [
    "def most_common(hist):\n",
    "    t =[]\n",
    "    for key, value in hist.items():\n",
    "    t.append((value, key))\n",
    "    t.sort(reverse=True)\n",
    "    return t"
   ]
  },
  {
   "cell_type": "markdown",
   "metadata": {},
   "source": [
    "Here is a loop that prints the ten most common words:"
   ]
  },
  {
   "cell_type": "code",
   "execution_count": null,
   "metadata": {},
   "outputs": [],
   "source": [
    "t = most_common(hist)\n",
    "print 'The most common words are:'\n",
    "for freq, word in t[0:10]:\n",
    "print word, '\\t', freq"
   ]
  },
  {
   "cell_type": "markdown",
   "metadata": {},
   "source": [
    "And here are the results from Emma: The most common words are:\n",
    "to 5242\n",
    "the 5205\n",
    "and 4897\n",
    "of 4295\n",
    "i 3191\n",
    "a 3130\n",
    "it 2529\n",
    "her 2483\n",
    "was 2400\n",
    "she 2364\n",
    "### 13.5 Optional parameters\n",
    "We have seen built-in functions and methods that take a variable number of arguments. It is possible to write user-defined functions with optional arguments, too. For example, here is a function that prints the most common words in a histogram"
   ]
  },
  {
   "cell_type": "code",
   "execution_count": null,
   "metadata": {},
   "outputs": [],
   "source": [
    "def print_most_common(hist, num=10):\n",
    "    t = most_common(hist)\n",
    "    print 'The most common words are:'\n",
    "    for freq, word in t[:num]:\n",
    "        print word, '\\t', freq"
   ]
  },
  {
   "cell_type": "markdown",
   "metadata": {},
   "source": [
    "The first parameter is required; the second is optional. The default value of num is 10. If you only provide one argument:"
   ]
  },
  {
   "cell_type": "code",
   "execution_count": null,
   "metadata": {},
   "outputs": [],
   "source": [
    ">>>print_most_common(hist)"
   ]
  },
  {
   "cell_type": "markdown",
   "metadata": {},
   "source": [
    "num gets the default value. If you provide two arguments:"
   ]
  },
  {
   "cell_type": "code",
   "execution_count": null,
   "metadata": {},
   "outputs": [],
   "source": [
    ">>>print_most_common(hist, 20)"
   ]
  },
  {
   "cell_type": "markdown",
   "metadata": {},
   "source": [
    "num gets the value of the argument instead. In other words, the optional argument overrides the default value.\n",
    "If a function has both required and optional parameters, all the required parameters have to come first, followed by the optional ones.\n",
    "\n",
    "### 13.6 Dictionary subtraction\n",
    "Finding the words from the book that are not in the word list from words.txt is a problem you might recognize as set subtraction; that is, we want to find all the words from one set (the words in the book) that are not in another set (the words in the list).\n",
    "subtract takes dictionaries d1 and d2 and returns a new dictionary that contains all the keys from d1 that are not in d2. Since we don’t really care about the values, we set them all to None."
   ]
  },
  {
   "cell_type": "code",
   "execution_count": null,
   "metadata": {},
   "outputs": [],
   "source": [
    "def subtract(d1, d2):\n",
    "    res = dict()\n",
    "    for key in d1:\n",
    "        if key not in d2:\n",
    "            res[key] = None\n",
    "    return res"
   ]
  },
  {
   "cell_type": "markdown",
   "metadata": {},
   "source": [
    "To find the words in the book that are not in words.txt, we can use process_file to build a histogram for words.txt, and then subtract:\n",
    "words = process_file('words.txt')\n",
    "diff = subtract(hist, words)\n",
    "print \"The words in the book that aren't in the word list are:\"\n",
    "for word in diff.keys():\n",
    "print word,\n",
    "Here are some of the results from Emma:\n",
    "The words in the book that aren't in the word list are:\n",
    "rencontre jane's blanche woodhouses disingenuousness\n",
    "friend's venice apartment ...\n",
    "Some of these words are names and possessives. Others, like “rencontre,” are no longer in common use. But a few are common words that should really be in the list!\n",
    "### Exercise 13.6. \n",
    "Python provides a data structure called set that provides many common set operations. Read the documentation at http://docs.python.org/3/library/stdtypes.html#types-set and write a program that uses set subtraction to find words in the book that are not in the word list. Solution: http://greenteapress.com/thinkpython/code/analyze_book2.py ."
   ]
  },
  {
   "cell_type": "code",
   "execution_count": 127,
   "metadata": {},
   "outputs": [
    {
     "data": {
      "text/plain": [
       "{0, 5}"
      ]
     },
     "execution_count": 127,
     "metadata": {},
     "output_type": "execute_result"
    }
   ],
   "source": [
    "# SOLUTION:\n",
    "q={1,3,8}\n",
    "r={1,3,5,0}\n",
    "r.difference(q)\n"
   ]
  },
  {
   "cell_type": "code",
   "execution_count": null,
   "metadata": {},
   "outputs": [],
   "source": [
    "# Function to create list of words from text file\n",
    "def text_to_list(filename):\n",
    "    #Creates list of words from text file\n",
    "    import string\n",
    "    t=[]\n",
    "    fin=open(filename)\n",
    "    for line in fin:\n",
    "        line=line.strip().replace('-',' ').split()\n",
    "        for word in line:\n",
    "            word=word.strip(string.punctuation+string.whitespace).lower()\n",
    "            t.append(word)\n",
    "    return t\n",
    "            \n",
    "    \n",
    "# Read 'words.txt', book, make 2 lists of words."
   ]
  },
  {
   "cell_type": "code",
   "execution_count": 152,
   "metadata": {},
   "outputs": [],
   "source": [
    "# make sets find diference book and word list\n",
    "def not_in_wordlist(book):\n",
    "    words=set(text_to_list('Files/words.txt'))\n",
    "    book=set(text_to_list(book))\n",
    "    return book - words"
   ]
  },
  {
   "cell_type": "code",
   "execution_count": 154,
   "metadata": {},
   "outputs": [],
   "source": [
    "# not_in_wordlist('Files/Books/emma.txt')"
   ]
  },
  {
   "cell_type": "code",
   "execution_count": 147,
   "metadata": {},
   "outputs": [
    {
     "data": {
      "text/plain": [
       "162742"
      ]
     },
     "execution_count": 147,
     "metadata": {},
     "output_type": "execute_result"
    }
   ],
   "source": [
    "# len(text_to_list('Files/Books/emma.txt'))"
   ]
  },
  {
   "cell_type": "markdown",
   "metadata": {},
   "source": [
    "### 13.7 Random words\n",
    "To choose a random word from the histogram, the simplest algorithm is to build a list with multiple copies of each word, according to the observed frequency, and then choose from the list:"
   ]
  },
  {
   "cell_type": "code",
   "execution_count": null,
   "metadata": {},
   "outputs": [],
   "source": [
    "def random_word(h):\n",
    "    t = []\n",
    "    for word, freq in h.items():\n",
    "    t.extend([word] * freq)\n",
    "    return random.choice(t)\n"
   ]
  },
  {
   "cell_type": "markdown",
   "metadata": {},
   "source": [
    "The expression [word] * freq creates a list with freq copies of the string word. The extend method is similar to append except that the argument is a sequence.\n",
    "This algorithm works, but it is not very efficient; each time you choose a random word, it rebuilds the list, which is as big as the original book. An obvious improvement is to build the list once and then make multiple selections, but the list is still big.\n",
    "An alternative is:\n",
    "1. Use keys to get a list of the words in the book.\n",
    "2. Build a list that contains the cumulative sum of the word frequencies (see Exercise 10.3). The\n",
    "last item in this list is the total number of words in the book, n.\n",
    "3. Choose a random number from 1 to n. Use a bisection search (See Exercise 10.11) to find the index where the random number would be inserted in the cumulative sum.\n",
    "4. Use the index to find the corresponding word in the word list.\n",
    "Write a program that uses this algorithm to choose a random word from the book. Solution: http://greenteapress.com/thinkpython/code/analyze_book.py ."
   ]
  },
  {
   "cell_type": "code",
   "execution_count": null,
   "metadata": {},
   "outputs": [],
   "source": [
    "dic=make_word_histogram_from_book('Files/Books/emma.txt')\n",
    "# Reverse the dic\n",
    "rev_dic=[]\n",
    "for key,val in dic.items():\n",
    "    rev_dic.append((val,key))\n",
    "rev_dic.sort()    \n",
    "# Build lists of words and frequencies\n",
    "keys=[]\n",
    "freqs=[]\n",
    "for i in rev_dic:\n",
    "    freq,key=i[0],i[1]\n",
    "    keys.append(key)\n",
    "    freqs.append(freq)\n",
    "# Make a list of cumulative sum of all the freq.\n",
    "from itertools import accumulate\n",
    "cumsum=list(accumulate(freqs))\n",
    "n=cumsum[-1:][0]"
   ]
  },
  {
   "cell_type": "code",
   "execution_count": 226,
   "metadata": {},
   "outputs": [],
   "source": [
    "from random import randint\n",
    "from bisect import bisect_left"
   ]
  },
  {
   "cell_type": "code",
   "execution_count": 295,
   "metadata": {
    "collapsed": true
   },
   "outputs": [
    {
     "name": "stdout",
     "output_type": "stream",
     "text": [
      "the\n",
      "either\n",
      "it\n",
      "of\n",
      "all\n",
      "whole\n",
      "then\n",
      "friend\n",
      "the\n",
      "i\n",
      "of\n",
      "do\n",
      "to\n",
      "it\n",
      "is\n",
      "of\n",
      "in\n",
      "attention\n",
      "room\n",
      "one\n",
      "and\n",
      "her\n",
      "handed\n",
      "at\n",
      "me\n",
      "of\n",
      "nothing\n",
      "did\n",
      "be\n",
      "now\n",
      "me\n",
      "no\n",
      "that\n",
      "in\n",
      "out\n",
      "extraordinary\n",
      "of\n",
      "beg\n",
      "paid\n",
      "so\n",
      "fact\n",
      "that\n",
      "so\n",
      "as\n",
      "wholly\n",
      "liberty\n",
      "herself\n",
      "been\n",
      "or\n",
      "and\n",
      "let\n",
      "occur\n",
      "had\n",
      "it\n",
      "the\n",
      "unwillingness\n",
      "a\n",
      "nothing\n",
      "employment\n",
      "that\n",
      "you\n",
      "now\n",
      "go\n",
      "hearing\n",
      "lovely\n",
      "campbell\n",
      "a\n",
      "must\n",
      "so\n",
      "surprize\n",
      "know\n",
      "no\n",
      "with\n",
      "very\n",
      "was\n",
      "jane\n",
      "i\n",
      "only\n",
      "slighted\n",
      "she\n",
      "moment\n",
      "he\n",
      "mr\n",
      "for\n",
      "you\n",
      "woman\n",
      "to\n",
      "that\n",
      "and\n",
      "those\n",
      "crisis\n",
      "could\n",
      "was\n",
      "do\n",
      "and\n",
      "jane\n",
      "something\n",
      "saying\n",
      "amiable\n",
      "ix\n"
     ]
    }
   ],
   "source": [
    "for i in range(100):\n",
    "    rn=random.randint(1,n)\n",
    "    a=bisect_left(cumsum,rn)\n",
    "    print(keys[a])"
   ]
  },
  {
   "cell_type": "code",
   "execution_count": 294,
   "metadata": {},
   "outputs": [
    {
     "data": {
      "text/plain": [
       "['she', 'was', 'her', 'it', 'a', 'i', 'of', 'and', 'the', 'to']"
      ]
     },
     "execution_count": 294,
     "metadata": {},
     "output_type": "execute_result"
    }
   ],
   "source": [
    "keys[-10:]"
   ]
  },
  {
   "cell_type": "markdown",
   "metadata": {},
   "source": [
    "### 13.8 Markov analysis\n",
    "If you choose words from the book at random, you can get a sense of the vocabulary, you probably won’t get a sentence:\n",
    "this the small regard harriet which knightley's it most things\n",
    "A series of random words seldom makes sense because there is no relationship between successive words. For example, in a real sentence you would expect an article like “the” to be followed by an adjective or a noun, and probably not a verb or adverb.\n",
    "One way to measure these kinds of relationships is Markov analysis, which characterizes, for a given sequence of words, the probability of the word that comes next. For example, the song Eric, the Half a Bee begins:\n",
    "Half a bee, philosophically, Must, ipso facto, half not be. But half the bee has got to be Vis a vis, its entity. D’you see?\n",
    "But can a bee be said to be\n",
    "Or not to be an entire bee When half the bee is not a bee Due to some ancient injury?\n",
    "In this text, the phrase “half the” is always followed by the word “bee,” but the phrase “the bee” might be followed by either “has” or “is”.\n",
    "The result of Markov analysis is a mapping from each prefix (like “half the” and “the bee”) to all possible suffixes (like “has” and “is”).\n",
    "Given this mapping, you can generate a random text by starting with any prefix and choosing at random from the possible suffixes. Next, you can combine the end of the prefix and the new suffix to form the next prefix, and repeat.\n",
    "For example, if you start with the prefix “Half a,” then the next word has to be “bee,” because the prefix only appears once in the text. The next prefix is “a bee,” so the next suffix might be “philosophically,” “be” or “due.”\n",
    "In this example the length of the prefix is always two, but you can do Markov analysis with any prefix length. The length of the prefix is called the “order” of the analysis."
   ]
  },
  {
   "cell_type": "markdown",
   "metadata": {},
   "source": [
    "### Exercise 13.8. Markov analysis:\n",
    "1. Write a program to read a text from a file and perform Markov analysis. The result should be a dictionary that maps from prefixes to a collection of possible suffixes. The collection might be a list, tuple, or dictionary; it is up to you to make an appropriate choice. You can test your program with prefix length two, but you should write the program in a way that makes it easy to try other lengths.\n",
    "2. Add a function to the previous program to generate random text based on the Markov analysis. Here is an example from Emma with prefix length 2:\n",
    "He was very clever, be it sweetness or be angry, ashamed or only amused, at such a stroke. She had never thought of Hannah till you were never meant for me?\" \"I cannot make speeches, Emma:\" he soon cut it all himself.\n",
    "For this example, I left the punctuation attached to the words. The result is almost syntactically correct, but not quite. Semantically, it almost makes sense, but not quite.\n",
    "What happens if you increase the prefix length? Does the random text make more sense?\n",
    "3. Once your program is working, you might want to try a mash-up: if you analyze text from two or more books, the random text you generate will blend the vocabulary and phrases from the sources in interesting ways.\n",
    "Credit: This case study is based on an example from Kernighan and Pike, The Practice of Programming, Addison-Wesley, 1999.\n",
    "You should attempt this exercise before you go on; then you can can download my solution from http://greenteapress.com/thinkpython/code/markov.py. You will also need http://greenteapress.com/thinkpythonthinkpython.com/code/emma.txt.\n",
    "Using Markov analysis to generate random text is fun, but there is also a point to this exercise: data structure selection. In your solution to the previous exercises, you had to choose:\n",
    "\n",
    "• How to represent the prefixes.\n",
    "\n",
    "• How to represent the collection of possible suffixes.\n",
    "\n",
    "• How to represent the mapping from each prefix to the collection of possible suffixes.\n",
    "\n",
    "Ok, the last one is easy; the only mapping type we have seen is a dictionary, so it is the natural choice.\n",
    "For the prefixes, the most obvious options are string, list of strings, or tuple of strings. For the suffixes, one option is a list; another is a histogram (dictionary).\n",
    "How should you choose? The first step is to think about the operations you will need to implement for each data structure. For the prefixes, we need to be able to remove words from the beginning and add to the end. For example, if the current prefix is “Half a,” and the next word is “bee,” you need to be able to form the next prefix, “a bee.”\n",
    "Your first choice might be a list, since it is easy to add and remove elements, but we also need to be able to use the prefixes as keys in a dictionary, so that rules out lists. With tuples, you can’t append or remove, but you can use the addition operator to form a new tuple:"
   ]
  },
  {
   "cell_type": "code",
   "execution_count": null,
   "metadata": {},
   "outputs": [],
   "source": [
    "def shift(prefix, word):\n",
    "    return prefix[1:] + (word,)"
   ]
  },
  {
   "cell_type": "markdown",
   "metadata": {},
   "source": [
    "shift takes a tuple of words, prefix, and a string, word, and forms a new tuple that has all the words in prefix except the first, and word added to the end.\n",
    "For the collection of suffixes, the operations we need to perform include adding a new suffix (or increasing the frequency of an existing one), and choosing a random suffix.\n",
    "Adding a new suffix is equally easy for the list implementation or the histogram. Choosing a random element from a list is easy; choosing from a histogram is harder to do efficiently (see Exercise 13.7).\n",
    "So far we have been talking mostly about ease of implementation, but there are other factors to consider in choosing data structures. One is run time. Sometimes there is a theoretical reason to expect one data structure to be faster than other; for example, I mentioned that the in operator is faster for dictionaries than for lists, at least when the number of elements is large.\n",
    "But often you don’t know ahead of time which implementation will be faster. One option is to implement both of them and see which is better. This approach is called benchmarking. A practical alternative is to choose the data structure that is easiest to implement, and then see if it is fast enough for the intended application. If so, there is no need to go on. If not, there are tools, like the profile module, that can identify the places in a program that take the most time.\n",
    "The other factor to consider is storage space. For example, using a histogram for the col- lection of suffixes might take less space because you only have to store each word once, no matter how many times it appears in the text. In some cases, saving space can also make your program run faster, and in the extreme, your program might not run at all if you run out of memory. But for many applications, space is a secondary consideration after run time.\n",
    "One final thought: in this discussion, I have implied that we should use one data structure for both analysis and generation. But since these are separate phases, it would also be pos- sible to use one structure for analysis and then convert to another structure for generation. This would be a net win if the time saved during generation exceeded the time spent in conversion."
   ]
  },
  {
   "cell_type": "code",
   "execution_count": null,
   "metadata": {},
   "outputs": [],
   "source": [
    "text=open(Fi)"
   ]
  },
  {
   "cell_type": "code",
   "execution_count": null,
   "metadata": {},
   "outputs": [],
   "source": [
    "# library of prefix(tuple) to list of possible suffixes mappings.\n"
   ]
  },
  {
   "cell_type": "markdown",
   "metadata": {},
   "source": [
    "### 13.10. Debugging\n",
    "When you are debugging a program, and especially if you are working on a hard bug, there are four things to try:\n",
    "reading: Examine your code, read it back to yourself, and check that it says what you meant to say.\n",
    "running: Experiment by making changes and running different versions. Often if you display the right thing at the right place in the program, the problem becomes obvious, but sometimes you have to spend some time to build scaffolding.\n",
    "ruminating: Take some time to think! What kind of error is it: syntax, runtime, semantic? What information can you get from the error messages, or from the output of the program? What kind of error could cause the problem you’re seeing? What did you change last, before the problem appeared?\n",
    "retreating: At some point, the best thing to do is back off, undoing recent changes, until you get back to a program that works and that you understand. Then you can start rebuilding.\n",
    "Beginning programmers sometimes get stuck on one of these activities and forget the others. Each activity comes with its own failure mode.\n",
    "For example, reading your code might help if the problem is a typographical error, but not if the problem is a conceptual misunderstanding. If you don’t understand what your program does, you can read it 100 times and never see the error, because the error is in your head.\n",
    "Running experiments can help, especially if you run small, simple tests. But if you run experiments without thinking or reading your code, you might fall into a pattern I call “random walk programming,” which is the process of making random changes until the program does the right thing. Needless to say, random walk programming can take a long time.\n",
    "You have to take time to think. Debugging is like an experimental science. You should have at least one hypothesis about what the problem is. If there are two or more possibilities, try to think of a test that would eliminate one of them.\n",
    "Taking a break helps with the thinking. So does talking. If you explain the problem to someone else (or even yourself), you will sometimes find the answer before you finish asking the question.\n",
    "But even the best debugging techniques will fail if there are too many errors, or if the code you are trying to fix is too big and complicated. Sometimes the best option is to retreat, simplifying the program until you get to something that works and that you understand.\n",
    "Beginning programmers are often reluctant to retreat because they can’t stand to delete a line of code (even if it’s wrong). If it makes you feel better, copy your program into another file before you start stripping it down. Then you can paste the pieces back in a little bit at a time.\n",
    "Finding a hard bug requires reading, running, ruminating, and sometimes retreating. If you get stuck on one of these activities, try the others.\n",
    " \n",
    "### 13.11 Glossary\n",
    "deterministic: Pertaining to a program that does the same thing each time it runs, given the same inputs.\n",
    "pseudorandom: Pertaining to a sequence of numbers that appear to be random, but are generated by a deterministic program.\n",
    "default value: The value given to an optional parameter if no argument is provided.\n",
    "override: To replace a default value with an argument.\n",
    "benchmarking: The process of choosing between data structures by implementing alter- natives and testing them on a sample of the possible inputs.\n",
    "13.12 Exercises\n",
    "Exercise 13.9. The “rank” of a word is its position in a list of words sorted by frequency: the most\n",
    "common word has rank 1, the second most common has rank 2, etc.\n",
    "Zipf’s law describes a relationship between the ranks and frequencies of words in natural languages (http: // en. wikipedia. org/ wiki/ Zipf's_ law ). Specifically, it predicts that the frequency,\n",
    "f, of the word with rank r is:\n",
    "f = cr−s\n",
    "where s and c are parameters that depend on the language and the text. If you take the logarithm of\n",
    "both sides of this equation, you get:\n",
    "logf =logc−slogr\n",
    "So if you plot log f versus log r, you should get a straight line with slope −s and intercept log c.\n",
    "Write a program that reads a text from a file, counts word frequencies, and prints one line for each word, in descending order of frequency, with log f and log r. Use the graphing program of your choice to plot the results and check whether they form a straight line. Can you estimate the value of s?\n",
    "Solution: http: // thinkpython. com/ code/ zipf. py . To make the plots, you might have to install matplotlib (see http: // matplotlib. sourceforge. net/ )."
   ]
  },
  {
   "cell_type": "code",
   "execution_count": null,
   "metadata": {},
   "outputs": [],
   "source": []
  },
  {
   "cell_type": "code",
   "execution_count": null,
   "metadata": {},
   "outputs": [],
   "source": []
  }
 ],
 "metadata": {
  "kernelspec": {
   "display_name": "Python 3",
   "language": "python",
   "name": "python3"
  },
  "language_info": {
   "codemirror_mode": {
    "name": "ipython",
    "version": 3
   },
   "file_extension": ".py",
   "mimetype": "text/x-python",
   "name": "python",
   "nbconvert_exporter": "python",
   "pygments_lexer": "ipython3",
   "version": "3.8.2"
  }
 },
 "nbformat": 4,
 "nbformat_minor": 4
}
