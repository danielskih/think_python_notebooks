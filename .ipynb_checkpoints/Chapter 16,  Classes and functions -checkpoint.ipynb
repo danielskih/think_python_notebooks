{
 "cells": [
  {
   "cell_type": "markdown",
   "metadata": {},
   "source": [
    "## Chapter 16\n",
    "## Classes and functions \n",
    "\n",
    "Code examples from this chapter are available from http://greenteapress.com/thinkpython/code/Time1.py. \n",
    "16.1 Time \n",
    "As another example of a user-defined type, we’ll define a class called Time that records the time of day. The class definition looks like this: \n",
    "    "
   ]
  },
  {
   "cell_type": "code",
   "execution_count": 3,
   "metadata": {},
   "outputs": [],
   "source": [
    "class Time(object): \n",
    "    \"\"\"Represents the time of day. \n",
    "    attributes: hour, minute, second \n",
    "    \"\"\" "
   ]
  },
  {
   "cell_type": "markdown",
   "metadata": {},
   "source": [
    "We can create a new Time object and assign attributes for hours, minutes, and seconds: "
   ]
  },
  {
   "cell_type": "code",
   "execution_count": 7,
   "metadata": {},
   "outputs": [],
   "source": [
    "time = Time()     "
   ]
  },
  {
   "cell_type": "code",
   "execution_count": 8,
   "metadata": {},
   "outputs": [],
   "source": [
    "time.hour = 11 \n",
    "time.minute = 59 \n",
    "time.second = 30 "
   ]
  },
  {
   "cell_type": "markdown",
   "metadata": {},
   "source": [
    "The state diagram for the Time object looks like Figure 16.1.\n",
    "\n",
    "### Exercise 16.1. \n",
    "Write a function called print_time that takes a Time object and prints it in the form hour:minute:second. Hint: the format sequence '%.2d' prints an integer using at least two digits, including a leading zero if necessary."
   ]
  },
  {
   "cell_type": "code",
   "execution_count": 61,
   "metadata": {},
   "outputs": [],
   "source": [
    "def print_time(time):\n",
    "    print('{:0>02}:{:0>02}:{:0>02}'.format(time.hour,time.minute,time.second))"
   ]
  },
  {
   "cell_type": "markdown",
   "metadata": {},
   "source": [
    "### Exercise 16.2.\n",
    "Write a boolean function called is_after that takes two Time objects, t1 and t2, and returns True if t1 follows t2 chronologically and False otherwise. Challenge: don’t use an if statement. "
   ]
  },
  {
   "cell_type": "code",
   "execution_count": 46,
   "metadata": {},
   "outputs": [],
   "source": [
    "t1=Time()\n",
    "t1.hour=2\n",
    "t1.min=15\n",
    "t2=Time()\n",
    "t2.hour=2\n",
    "t2.min=5"
   ]
  },
  {
   "cell_type": "code",
   "execution_count": 50,
   "metadata": {},
   "outputs": [
    {
     "name": "stdout",
     "output_type": "stream",
     "text": [
      "False\n"
     ]
    }
   ],
   "source": [
    "if t1.hour<=t2.hour:\n",
    "    print(t1.min<t2.min)\n",
    "else:\n",
    "    print(False)"
   ]
  },
  {
   "cell_type": "code",
   "execution_count": 42,
   "metadata": {},
   "outputs": [],
   "source": [
    "def timesum(t):\n",
    "    return t.hour*60*60*60+t.min*60*60"
   ]
  },
  {
   "cell_type": "code",
   "execution_count": 48,
   "metadata": {},
   "outputs": [
    {
     "data": {
      "text/plain": [
       "False"
      ]
     },
     "execution_count": 48,
     "metadata": {},
     "output_type": "execute_result"
    }
   ],
   "source": [
    "timesum(t2)>timesum(t1)"
   ]
  },
  {
   "cell_type": "code",
   "execution_count": 56,
   "metadata": {},
   "outputs": [
    {
     "data": {
      "text/plain": [
       "10"
      ]
     },
     "execution_count": 56,
     "metadata": {},
     "output_type": "execute_result"
    }
   ],
   "source": [
    "70%60"
   ]
  },
  {
   "cell_type": "markdown",
   "metadata": {},
   "source": [
    "16.2 Pure functions \n",
    "In the next few sections, we’ll write two functions that add time values. They demonstrate two kinds of functions: pure functions and modifiers. They also demonstrate a develop- ment plan I’ll call prototype and patch, which is a way of tackling a complex problem by starting with a simple prototype and incrementally dealing with the complications. \n",
    "152 \n",
    "\n",
    "Time time \n",
    "Figure 16.1: Object diagram. Here is a simple prototype of add_time: "
   ]
  },
  {
   "cell_type": "code",
   "execution_count": 59,
   "metadata": {},
   "outputs": [],
   "source": [
    "def add_time(t1, t2): \n",
    "    sum = Time() \n",
    "    sum.hour = t1.hour + t2.hour \n",
    "    sum.minute = t1.minute + t2.minute \n",
    "    sum.second = t1.second + t2.second \n",
    "    return sum "
   ]
  },
  {
   "cell_type": "markdown",
   "metadata": {},
   "source": [
    "hour 11 minute 59 second 30 \n",
    "The function creates a new Time object, initializes its attributes, and returns a reference to the new object. This is called a pure function because it does not modify any of the objects passed to it as arguments and it has no effect, like displaying a value or getting user input, other than returning a value. \n",
    "To test this function, I’ll create two Time objects: start contains the start time of a movie, like Monty Python and the Holy Grail, and duration contains the run time of the movie, which is one hour 35 minutes. \n",
    "add_time figures out when the movie will be done. "
   ]
  },
  {
   "cell_type": "code",
   "execution_count": 62,
   "metadata": {},
   "outputs": [
    {
     "name": "stdout",
     "output_type": "stream",
     "text": [
      "10:80:00\n"
     ]
    }
   ],
   "source": [
    ">>> start = Time() \n",
    ">>> start.hour = 9 \n",
    ">>> start.minute = 45 \n",
    ">>> start.second = 0 \n",
    ">>> duration = Time() \n",
    ">>> duration.hour = 1 \n",
    ">>> duration.minute = 35\n",
    ">>> duration.second = 0\n",
    ">>> done = add_time(start, duration) \n",
    ">>> print_time(done)"
   ]
  },
  {
   "cell_type": "markdown",
   "metadata": {},
   "source": [
    "The result, 10:80:00 might not be what you were hoping for. The problem is that this function does not deal with cases where the number of seconds or minutes adds up to more than sixty. When that happens, we have to “carry” the extra seconds into the minute column or the extra minutes into the hour column. \n",
    "Here’s an improved version: "
   ]
  },
  {
   "cell_type": "code",
   "execution_count": null,
   "metadata": {},
   "outputs": [],
   "source": [
    "def add_time(t1, t2): \n",
    "    sum = Time() \n",
    "    sum.hour = t1.hour + t2.hour \n",
    "    sum.minute = t1.minute + t2.minute \n",
    "    sum.second = t1.second + t2.second \n",
    "\n",
    "    if sum.second >= 60: \n",
    "        sum.second -= 60 \n",
    "        sum.minute += 1 \n",
    "    if sum.minute >= 60: \n",
    "        sum.minute -= 60 \n",
    "        sum.hour += 1 \n",
    "    return sum "
   ]
  },
  {
   "cell_type": "markdown",
   "metadata": {},
   "source": [
    "Although this function is correct, it is starting to get big. We will see a shorter alternative later. "
   ]
  },
  {
   "cell_type": "markdown",
   "metadata": {},
   "source": [
    "### 16.3 Modifiers \n",
    "Sometimes it is useful for a function to modify the objects it gets as parameters. In that case, the changes are visible to the caller. Functions that work this way are called modifiers. \n",
    "increment, which adds a given number of seconds to a Time object, can be written naturally as a modifier. Here is a rough draft: \n",
    "    \n",
    "    def increment(time, seconds): \n",
    "        time.second += seconds \n",
    "        if time.second >= 60: \n",
    "        time.second -= 60 \n",
    "        time.minute += 1 \n",
    "        if time.minute >= 60: \n",
    "        time.minute -= 60 \n",
    "        time.hour += 1 \n",
    "The first line performs the basic operation; the remainder deals with the special cases we saw before. \n",
    "Is this function correct? What happens if the parameter seconds is much greater than sixty? \n",
    "In that case, it is not enough to carry once; we have to keep doing it until time.second is less than sixty. One solution is to replace the if statements with while statements. That would make the function correct, but not very efficient.\n",
    "### Exercise 16.3. \n",
    "Write a correct version of increment that doesn’t contain any loops. "
   ]
  },
  {
   "cell_type": "code",
   "execution_count": 85,
   "metadata": {},
   "outputs": [],
   "source": [
    "seconds=181\n",
    "time.second=0"
   ]
  },
  {
   "cell_type": "code",
   "execution_count": 87,
   "metadata": {},
   "outputs": [],
   "source": [
    "time.second+=seconds\n",
    "if time.second>=60:\n",
    "    time.minute+=time.second//60\n",
    "    time.second=time.second%60"
   ]
  },
  {
   "cell_type": "markdown",
   "metadata": {},
   "source": [
    "Anything that can be done with modifiers can also be done with pure functions. In fact, some programming languages only allow pure functions. There is some evidence that programs that use pure functions are faster to develop and less error-prone than programs that use modifiers. But modifiers are convenient at times, and functional programs tend to be less efficient. \n",
    "In general, I recommend that you write pure functions whenever it is reasonable and resort to modifiers only if there is a compelling advantage. This approach might be called a functional programming style.\n",
    "\n",
    "### Exercise 16.4.\n",
    "Write a “pure” version of increment that creates and returns a new Time object rather than modifying the parameter. "
   ]
  },
  {
   "cell_type": "markdown",
   "metadata": {},
   "source": [
    "### 16.4 Prototyping versus planning \n",
    "The development plan I am demonstrating is called “prototype and patch.” For each function, I wrote a prototype that performed the basic calculation and then tested it, patching errors along the way. \n",
    "This approach can be effective, especially if you don’t yet have a deep understanding of the problem. But incremental corrections can generate code that is unnecessarily complicated - since it deals with many special cases — and unreliable — since it is hard to know if you have found all the errors. \n",
    "An alternative is planned development, in which high-level insight into the problem can make the programming much easier. In this case, the insight is that a Time object is really a three-digit number in base 60 (see http://en.wikipedia.org/wiki/Sexagesimal.)! The second attribute is the “ones column,” the minute attribute is the “sixties column,” and the hour attribute is the “thirty-six hundreds column.” \n",
    "When we wrote add_time and increment, we were effectively doing addition in base 60, which is why we had to carry from one column to the next. \n",
    "This observation suggests another approach to the whole problem — we can convert Time objects to integers and take advantage of the fact that the computer knows how to do integer arithmetic. \n",
    "Here is a function that converts Times to integers: \n",
    "    "
   ]
  },
  {
   "cell_type": "code",
   "execution_count": 1,
   "metadata": {},
   "outputs": [],
   "source": [
    "def time_to_int(time): \n",
    "    minutes = time.hour * 60 + time.minute \n",
    "    seconds = minutes * 60 + time.second \n",
    "    return seconds "
   ]
  },
  {
   "cell_type": "markdown",
   "metadata": {},
   "source": [
    "And here is the function that converts integers to Times (recall that divmod divides the first argument by the second and returns the quotient and remainder as a tuple).     "
   ]
  },
  {
   "cell_type": "code",
   "execution_count": 2,
   "metadata": {},
   "outputs": [],
   "source": [
    "def int_to_time(seconds): \n",
    "    time = Time() \n",
    "    minutes, time.second = divmod(seconds, 60) \n",
    "    time.hour, time.minute = divmod(minutes, 60) \n",
    "    return time "
   ]
  },
  {
   "cell_type": "markdown",
   "metadata": {},
   "source": [
    "You might have to think a bit, and run some tests, to convince yourself that these functions are correct. One way to test them is to check that time_to_int(int_to_time(x)) == x for many values of x. This is an example of a consistency check. \n",
    "Once you are convinced they are correct, you can use them to rewrite add_time: \n",
    "\n",
    "    def add_time(t1, t2): \n",
    "        seconds = time_to_int(t1) + time_to_int(t2) \n",
    "        return int_to_time(seconds) \n",
    "This version is shorter than the original, and easier to verify. \n",
    "### Exercise 16.5. Rewrite increment using time_to_int and int_to_time."
   ]
  },
  {
   "cell_type": "code",
   "execution_count": null,
   "metadata": {},
   "outputs": [],
   "source": [
    "def increment():\n",
    "    sam=time_to_int(time)+seconds\n",
    "    return int_to_time(sam)"
   ]
  },
  {
   "cell_type": "markdown",
   "metadata": {},
   "source": [
    "In some ways, converting from base 60 to base 10 and back is harder than just dealing with \n",
    "times. Base conversion is more abstract; our intuition for dealing with time values is better. \n",
    "But if we have the insight to treat times as base 60 numbers and make the investment of writing the conversion functions (time_to_int and int_to_time), we get a program that is shorter, easier to read and debug, and more reliable. \n",
    " \n",
    "### 16.5. Debugging\n",
    "\n",
    "It is also easier to add features later. For example, imagine subtracting two Times to find the duration between them. The naive approach would be to implement subtraction with borrowing. Using the conversion functions would be easier and more likely to be correct. \n",
    "Ironically, sometimes making a problem harder (or more general) makes it easier (because there are fewer special cases and fewer opportunities for error). \n",
    "A Time object is well-formed if the values of minute and second are between 0 and 60 (including 0 but not 60) and if hour is positive. hour and minute should be integral values, but we might allow second to have a fraction part. \n",
    "Requirements like these are called invariants because they should always be true. To put it a different way, if they are not true, then something has gone wrong. \n",
    "Writing code to check your invariants can help you detect errors and find their causes. For example, you might have a function like valid_time that takes a Time object and returns False if it violates an invariant: \n",
    "def valid_time(time): \n",
    "if time.hour < 0 or time.minute < 0 or time.second < 0: \n",
    "return False \n",
    "if time.minute >= 60 or time.second >= 60: \n",
    "return False \n",
    "return True \n",
    "Then at the beginning of each function you could check the arguments to make sure they are valid: \n",
    "def add_time(t1, t2): \n",
    "if not valid_time(t1) or not valid_time(t2): \n",
    "raise ValueError('invalid Time object in add_time') \n",
    "seconds = time_to_int(t1) + time_to_int(t2) \n",
    "return int_to_time(seconds) \n",
    "Or you could use an assert statement, which checks a given invariant and raises an exception if it fails: \n",
    "    \n",
    "    def add_time(t1, t2): \n",
    "        assert valid_time(t1) and valid_time(t2) \n",
    "        seconds = time_to_int(t1) + time_to_int(t2) \n",
    "        return int_to_time(seconds) \n",
    "assert statements are useful because they distinguish code that deals with normal conditions from code that checks for errors. \n",
    "### 16.6 Glossary\n",
    "prototype and patch: A development plan that involves writing a rough draft of a program, testing, and correcting errors as they are found. \n",
    "planned development: A development plan that involveshigh-level insightintotheproblem and more planning than incremental development or prototype development. \n",
    "pure function: Afunction that does not modify any of the objects it receives as arguments. \n",
    "Most pure functions are fruitful. \n",
    "modifier: A function that changes one or more of the objects it receives as arguments. Most modifiers are fruitless. \n",
    "functional programming style: A style of program design in which the majority of functions are pure. \n",
    "invariant: A condition that should always be true during the execution of a program. \n",
    "## 16.7 Exercises \n",
    "Code examples from this chapter are available from http://greenteapress.com/thinkpython/code/Time1.py; solutions to these exercises are available from http://greenteapress.com/thinkpython/code/Time1_soln.py.\n",
    "### Exercise 16.6. \n",
    "Write a function called mul_time that takes a Time object and a number and returns a new Time object that contains the product of the original Time and the number. \n",
    "Then use mul_time to write a function that takes a Time object that represents the finishing time in a race, and a number that represents the distance, and returns a Time object that represents the average pace (time per mile). "
   ]
  },
  {
   "cell_type": "code",
   "execution_count": 4,
   "metadata": {},
   "outputs": [],
   "source": [
    "def mul_time(time_o, num):\n",
    "    temp=time_to_int(time_o)*num\n",
    "    return int_to_time(temp)"
   ]
  },
  {
   "cell_type": "code",
   "execution_count": null,
   "metadata": {},
   "outputs": [],
   "source": [
    "def pace(fin_time, dist):\n",
    "    return mul_time(fin_time,1/dist)"
   ]
  },
  {
   "cell_type": "markdown",
   "metadata": {},
   "source": [
    "### Exercise 16.7. \n",
    "The datetime module provides date and time objects that are similar to the Date and Time objects in this chapter, but they provide a rich set of methods and operators. Read the documentation at http://docs.python.org/2/library/datetime.html.\n",
    "\t1.\tUse the datetime module to write a program that gets the current date and prints the day of the week.\n",
    "\t2.\tWrite a program that takes a birthday as input and prints the user’s age and the number of days, hours, minutes and seconds until their next birthday. \n",
    "\t3.\tFor two people born on different days, there is a day when one is twice as old as the other. That’s their Double Day. Write a program that takes two birthdays and computes their Double Day.\n",
    "\t4.\tFor a little more challenge, write the more general version that computes the day when one person is n times older than the other. "
   ]
  },
  {
   "cell_type": "markdown",
   "metadata": {},
   "source": [
    "Ex. 1"
   ]
  },
  {
   "cell_type": "code",
   "execution_count": 38,
   "metadata": {},
   "outputs": [],
   "source": [
    "td=date.today().weekday()\n",
    "weekdays=('Mon','Tue','Wed','Thu','Fr','Sat','Sun')\n",
    "print(weekdays[td])"
   ]
  },
  {
   "cell_type": "markdown",
   "metadata": {},
   "source": [
    "Ex. 2"
   ]
  },
  {
   "cell_type": "code",
   "execution_count": 8,
   "metadata": {},
   "outputs": [],
   "source": [
    "from datetime import timedelta\n",
    "from datetime import date\n",
    "from datetime import datetime\n",
    "from copy import copy"
   ]
  },
  {
   "cell_type": "code",
   "execution_count": 3,
   "metadata": {},
   "outputs": [
    {
     "name": "stdout",
     "output_type": "stream",
     "text": [
      "What is your birthdate YYYY/M/D?  1972/2/8\n"
     ]
    }
   ],
   "source": [
    "my_bd=input('What is your birthdate YYYY/M/D?  ')"
   ]
  },
  {
   "cell_type": "code",
   "execution_count": null,
   "metadata": {},
   "outputs": [],
   "source": [
    "my_bd=my_bd.split('/')\n",
    "my_bd"
   ]
  },
  {
   "cell_type": "code",
   "execution_count": 9,
   "metadata": {},
   "outputs": [
    {
     "name": "stdout",
     "output_type": "stream",
     "text": [
      "You are 48 years old.\n",
      "131 days, 22 hours, 58 minutes, 26 seconds till your next birthday.\n"
     ]
    }
   ],
   "source": [
    "my_birth_date=date(int(my_bd[0]),int(my_bd[1]),int(my_bd[2]))\n",
    "my_birth_date\n",
    "\n",
    "from dateutil.relativedelta import relativedelta\n",
    "age=relativedelta(date.today(), my_birth_date)\n",
    "\n",
    "\n",
    "datetime.now()\n",
    "\n",
    "m=my_birth_date.month\n",
    "d=my_birth_date.day\n",
    "\n",
    "# Check if this years BD is due, if not: next bd is next year\n",
    "#  calculate time till next BD\n",
    "this_year_bd=datetime(date.today().year,m,d)\n",
    "next_year_bd=datetime(date.today().year+1,m,d)\n",
    "\n",
    "if this_year_bd>datetime.now():\n",
    "    time_till_next_bd=this_year_bd-datetime.now()\n",
    "else:time_till_next_bd=next_year_bd-datetime.now()\n",
    "time_till_next_bd\n",
    "\n",
    "minutes,seconds=divmod(time_till_next_bd.seconds, 60)\n",
    "hours=0\n",
    "if minutes>=60:\n",
    "    hours,minutes=divmod(minutes,60)\n",
    "hours,minutes,seconds\n",
    "\n",
    "print('You are {} years old.'.format(age.years))\n",
    "print('{} days, {} hours, {} minutes, {} seconds till your next birthday.'.format(time_till_next_bd.days,hours,minutes,seconds))"
   ]
  },
  {
   "cell_type": "markdown",
   "metadata": {},
   "source": [
    "Ex. 3"
   ]
  },
  {
   "cell_type": "code",
   "execution_count": 7,
   "metadata": {},
   "outputs": [],
   "source": [
    "from datetime import timedelta\n",
    "from datetime import date"
   ]
  },
  {
   "cell_type": "code",
   "execution_count": 9,
   "metadata": {},
   "outputs": [
    {
     "data": {
      "text/plain": [
       "datetime.timedelta(days=366)"
      ]
     },
     "execution_count": 9,
     "metadata": {},
     "output_type": "execute_result"
    }
   ],
   "source": [
    "abs(date1-date2)"
   ]
  },
  {
   "cell_type": "code",
   "execution_count": 11,
   "metadata": {},
   "outputs": [
    {
     "data": {
      "text/plain": [
       "datetime.date(1973, 2, 8)"
      ]
     },
     "execution_count": 11,
     "metadata": {},
     "output_type": "execute_result"
    }
   ],
   "source": [
    "max(date1,date2)"
   ]
  },
  {
   "cell_type": "code",
   "execution_count": 14,
   "metadata": {},
   "outputs": [
    {
     "data": {
      "text/plain": [
       "datetime.date(1973, 2, 8)"
      ]
     },
     "execution_count": 14,
     "metadata": {},
     "output_type": "execute_result"
    }
   ],
   "source": [
    "date1+timedelta(days=366)"
   ]
  },
  {
   "cell_type": "code",
   "execution_count": 111,
   "metadata": {},
   "outputs": [
    {
     "data": {
      "text/plain": [
       "datetime.datetime(2020, 9, 28, 23, 12, 22, 99955)"
      ]
     },
     "execution_count": 111,
     "metadata": {},
     "output_type": "execute_result"
    }
   ],
   "source": [
    "datetime.now()"
   ]
  },
  {
   "cell_type": "code",
   "execution_count": null,
   "metadata": {},
   "outputs": [],
   "source": []
  }
 ],
 "metadata": {
  "kernelspec": {
   "display_name": "Python 3",
   "language": "python",
   "name": "python3"
  },
  "language_info": {
   "codemirror_mode": {
    "name": "ipython",
    "version": 3
   },
   "file_extension": ".py",
   "mimetype": "text/x-python",
   "name": "python",
   "nbconvert_exporter": "python",
   "pygments_lexer": "ipython3",
   "version": "3.8.2"
  }
 },
 "nbformat": 4,
 "nbformat_minor": 4
}
