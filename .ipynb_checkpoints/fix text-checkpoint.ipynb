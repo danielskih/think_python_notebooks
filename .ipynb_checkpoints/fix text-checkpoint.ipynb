{
 "cells": [
  {
   "cell_type": "code",
   "execution_count": null,
   "metadata": {},
   "outputs": [],
   "source": [
    "def fix_print(text):\n",
    "    temp=''\n",
    "    for line in text: \n",
    "        if line.startswith('>>> print '):\n",
    "            line= \">>> print\"+'('+line[len('>>> print '):-1]+')\\n'\n",
    "            temp=temp+line\n",
    "        else:\n",
    "            temp=temp+line\n",
    "    return temp"
   ]
  },
  {
   "cell_type": "code",
   "execution_count": null,
   "metadata": {},
   "outputs": [],
   "source": [
    "def fix_link(link):\n",
    "    r=str(link).replace(' ','')\n",
    "    r=r.replace('thinkpython.com','greenteapress.com/thinkpython')\n",
    "    return r"
   ]
  },
  {
   "cell_type": "code",
   "execution_count": null,
   "metadata": {},
   "outputs": [],
   "source": [
    "def fix_text(file):\n",
    "    fit= open( file)\n",
    "    delegate=''\n",
    "    for line in fit:\n",
    "        delegate+=line\n",
    "    delegate=fix_print(delegate)\n",
    "    import re\n",
    "    pattern=re.compile(r'\\bhttp:.+?\\. *py\\b')\n",
    "    # Use regex search and split to get list of web links and split the text  \n",
    "    link_span=re.search(pattern, delegate).span()\n",
    "\n",
    "    split_text=re.split(pattern, delegate)\n",
    "\n",
    "    links=re.findall(pattern, delegate)\n",
    "\n",
    "    it=0\n",
    "    for link in links:\n",
    "        link =fix_link(link)\n",
    "        links[it]=link\n",
    "        it+=1\n",
    "\n",
    "#     Compare 'split_text' and 'links' lists lengths:\n",
    "#     if they equal- see which start the text, combine both accordingly.\n",
    "#     Lets say links are 1's and text is 0's\n",
    "\n",
    "\n",
    "    temp=''\n",
    "    if len(split_text)!=len(links): \n",
    "# if the pattern is 010\n",
    "        if len(split_text)>len(links): \n",
    "            for i in range(len(links)):\n",
    "                temp=temp+split_text[i]+links[i]\n",
    "            temp=temp+split_text[-1] \n",
    "# if the pattern is 101\n",
    "        if len(split_text)<len(links):\n",
    "            for i in range(len(split_text)):\n",
    "                temp=temp+links[i]+split_text[i]\n",
    "            temp=temp+links[-1]\n",
    "\n",
    "    if len(split_text)==len(links):\n",
    "# if pattern is 1010\n",
    "        if text.startswith(links[0]):\n",
    "            for i in range(len(links)):\n",
    "                temp=temp+links[i]+split_text[i]\n",
    "# if pattern is 0101\n",
    "        if text.startswith(split_text[0]):\n",
    "            for i in range(len(links)):\n",
    "                temp=temp+split_text[i]+links[i]\n",
    "\n",
    "\n",
    "    fout= open(file[0:-4]+' mod.txt','w')\n",
    "    fout.write(temp)\n",
    "    fout.close()"
   ]
  },
  {
   "cell_type": "code",
   "execution_count": 65,
   "metadata": {},
   "outputs": [],
   "source": [
    "fix_text('Raw txt/Chapter 19.txt')"
   ]
  }
 ],
 "metadata": {
  "kernelspec": {
   "display_name": "Python 3",
   "language": "python",
   "name": "python3"
  },
  "language_info": {
   "codemirror_mode": {
    "name": "ipython",
    "version": 3
   },
   "file_extension": ".py",
   "mimetype": "text/x-python",
   "name": "python",
   "nbconvert_exporter": "python",
   "pygments_lexer": "ipython3",
   "version": "3.8.2"
  }
 },
 "nbformat": 4,
 "nbformat_minor": 4
}
