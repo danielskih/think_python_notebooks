{
 "cells": [
  {
   "cell_type": "markdown",
   "metadata": {},
   "source": [
    "# Chapter 15 ",
    " Classes and objects \n",
    "Code examples from this chapter are available from http://greenteapress.com/thinkpython/code/Point1.py; solutions to the exercises are available from http://greenteapress.com/thinkpython/code/Point1_soln.py. "
   ]
  },
  {
   "cell_type": "markdown",
   "metadata": {},
   "source": [
    "## 15.1 User-defined types \n",
    "We have used many of Python’s built-in types; now we are going to define a new type. As an example, we will create a type called Point that represents a point in two-dimensional space. \n",
    "In mathematical notation, points are often written in parentheses with a comma separating the coordinates. For example, (0, 0) represents the origin, and (x, y) represents the point x units to the right and y units up from the origin. \n",
    "There are several ways we might represent points in Python: \n",
    "\n",
    "• We could store the coordinates separately in two variables, x and y. \n",
    "\n",
    "• We could store the coordinates as elements in a list or tuple.\n",
    "\n",
    "• We could create a new type to represent points as objects. \n",
    "\n",
    "Creating a new type is (a little) more complicated than the other options, but it has advan- tages that will be apparent soon. \n",
    "A user-defined type is also called a class. A class definition looks like this: "
   ]
  },
  {
   "cell_type": "code",
   "execution_count": 8,
   "metadata": {},
   "outputs": [],
   "source": [
    "class Point(object): \n",
    "    \"\"\"Represents a point in 2-D space.\"\"\" "
   ]
  },
  {
   "cell_type": "markdown",
   "metadata": {},
   "source": [
    "This header indicates that the new class is a Point, which is a kind of object, which is a built-in type. \n",
    "The body is a docstring that explains what the class is for. You can define variables and functions inside a class definition, but we will get back to that later. \n",
    "Defining a class named Point creates a class object. \n",
    "  \n",
    "\n",
    "Figure 15.1: Object diagram. \n",
    "\n",
    "    >>> print(Point )\n",
    "    class '__main__.Point'\n",
    "\n",
    "   Because Point is defined at the top level, its “full name” is \"__main__.Point.\"\n",
    "   The class object is like a factory for creating objects. To create a Point, you call Point as if it were a function. \n",
    "\n",
    "\n",
    "    >>> blank = Point() \n",
    "    >>> print(blank)\n",
    "    __main__.Point instance at 0xb7e9d3ac \n",
    "\n",
    "   The return value is a reference to a Point object, which we assign to blank. Creating a new object is called instantiation, and the object is an instance of the class. \n",
    "When you print an instance, Python tells you what class it belongs to and where it is stored in memory (the prefix 0x means that the following number is in hexadecimal). "
   ]
  },
  {
   "cell_type": "markdown",
   "metadata": {},
   "source": [
    "This header indicates that the new class is a Point, which is a kind of object, which is a built-in type. \n",
    "The body is a docstring that explains what the class is for. You can define variables and functions inside a class definition, but we will get back to that later. \n",
    "Defining a class named Point creates a class object. \n",
    "  \n",
    "\n",
    "Figure 15.1: Object diagram.\n",
    "\n",
    "    >>> print(Point )\n",
    "    class '__main__.Point'\n",
    "\n",
    "Because Point is defined at the top level, its “full name” is __main__.Point.\n",
    "The class object is like a factory for creating objects. To create a Point, you call Point as if it were a function. \n",
    "\n",
    "    >>> blank = Point() \n",
    "    >>> print(blank )\n",
    "        __main__.Point instance at 0xb7e9d3ac\n",
    "\n",
    "The return value is a reference to a Point object, which we assign to blank. Creating a new object is called instantiation, and the object is an instance of the class. \n",
    "When you print an instance, Python tells you what class it belongs to and where it is stored in memory (the prefix 0x means that the following number is in hexadecimal). "
   ]
  },
  {
   "cell_type": "markdown",
   "metadata": {},
   "source": [
    "### 15.2 Attributes \n",
    "You can assign values to an instance using dot notation: \n",
    "    \n",
    "    >>> blank.x = 3.0 \n",
    "    >>> blank.y = 4.0 \n",
    "\n",
    "This syntax is similar to the syntax for selecting a variable from a module, such as math.pi or string.whitespace. In this case, though, we are assigning values to named elements of an object. These elements are called attributes. \n",
    "As a noun, “AT-trib-ute” is pronounced with emphasis on the first syllable, as opposed to “a-TRIB-ute,” which is a verb. \n",
    "The following diagram shows the result of these assignments. A state diagram that shows an object and its attributes is called an object diagram; see Figure 15.1. \n",
    "The variable blank refers to a Point object, which contains two attributes. Each attribute refers to a floating-point number. \n",
    "You can read the value of an attribute using the same syntax: \n",
    "    \n",
    "    >>>  print (blank.y) \n",
    "    4.0 \n",
    "    >>>  x = (blank.x)  ",
    "\n",
    "    >>>  print x \n",
    "    3.0 \n",
    "The expression blank.x means, “Go to the object blank refers to and get the value of x.” In this case, we assign that value to a variable named x. There is no conflict between the variable x and the attribute x. \n",
    "You can use dot notation as part of any expression. For example:\n",
    "\n",
    "    >>> print('(%g, %g)' % (blank.x, blank.y) )\n",
    "    (3.0, 4.0) \n",
    "    >>>  distance = math.sqrt(blank.x**2 + blank.y**2) \n",
    "    >>>  print distance \n",
    "    5.0 \n",
    "\n",
    "You can pass an instance as an argument in the usual way. For example: \n",
    "\n",
    "    def print_point(p): \n",
    "        print '(%g, %g)' % (p.x, p.y)  \n",
    "print_point takes a point as an argument and displays it in mathematical notation. To invoke it, you can pass blank as an argument: \n",
    "    \n",
    "    >>> print_point(blank) \n",
    "    (3.0, 4.0) \n",
    "Inside the function, p is an alias for blank, so if the function modifies p, blank changes. "
   ]
  },
  {
   "cell_type": "markdown",
   "metadata": {},
   "source": [
    "### Exercise 15.1. \n",
    "Write a function called distance_between_points that takes two Points as arguments and returns the distance between them. "
   ]
  },
  {
   "cell_type": "code",
   "execution_count": null,
   "metadata": {},
   "outputs": [],
   "source": [
    "class Point(object)\n",
    "'''Represents a point in 2D space'''\n",
    "\n",
    "def distance_between_points(a,b):    \n",
    "    diff_x=a.x-b.x\n",
    "    diff_y=a.y-b.y\n",
    "    distance=math.sqrt(diff_x**2+diff_y**2)\n",
    "    return distance"
   ]
  },
  {
   "cell_type": "markdown",
   "metadata": {},
   "source": [
    "## 15.3 Rectangles \n",
    "\n",
    "Sometimes it is obvious what the attributes of an object should be, but other times you have to make decisions. For example, imagine you are designing a class to represent rectangles. What attributes would you use to specify the location and size of a rectangle? You can ignore angle; to keep things simple, assume that the rectangle is either vertical or horizontal. \n",
    "There are at least two possibilities: \n",
    "\n",
    "• You could specify one corner of the rectangle (or the center), the width, and the height. \n",
    "\n",
    "• You could specify two opposing corners. \n",
    "\n",
    "At this point it is hard to say whether either is better than the other, so we’ll implement the first one, just as an example. \n",
    "Here is the class definition: "
   ]
  },
  {
   "cell_type": "code",
   "execution_count": 4,
   "metadata": {},
   "outputs": [],
   "source": [
    "class Rectangle(object): \n",
    "    \"\"\"Represents a rectangle. \n",
    "    attributes: width, height, corner. \"\"\" "
   ]
  },
  {
   "cell_type": "markdown",
   "metadata": {},
   "source": [
    "The docstring lists the attributes: width and height are numbers; corner is a Point object that specifies the lower-left corner. \n",
    "To represent a rectangle, you have to instantiate a Rectangle object and assign values to the attributes: "
   ]
  },
  {
   "cell_type": "code",
   "execution_count": 5,
   "metadata": {},
   "outputs": [],
   "source": [
    "box = Rectangle() \n",
    "box.width = 100.0 \n",
    "box.height = 200.0 \n",
    "box.corner = Point() \n",
    "box.corner.x = 0.0 \n",
    "box.corner.y = 0.0 "
   ]
  },
  {
   "cell_type": "markdown",
   "metadata": {},
   "source": [
    "Figure 15.2: Object diagram. \n",
    "\n",
    "The expression box.corner.x means, “Go to the object box refers to and select the attribute named corner; then go to that object and select the attribute named x.” \n",
    "Figure 15.2 shows the state of this object. An object that is an attribute of another object is embedded. \n",
    "\n",
    "### 15.4 Instances as return values \n",
    "Functions can return instances. For example, find_center takes a Rectangle as an argu- ment and returns a Point that contains the coordinates of the center of the Rectangle: \n",
    "    \n",
    "    def find_center(rect): \n",
    "        p = Point() \n",
    "        p.x = rect.corner.x + rect.width/2.0 \n",
    "        p.y = rect.corner.y + rect.height/2.0 \n",
    "        return p \n",
    "Here is an example that passes box as an argument and assigns the resulting Point to center: \n",
    "    \n",
    "    >>> center = find_center(box) \n",
    "    >>> print_point(center) \n",
    "    (50.0, 100.0) "
   ]
  },
  {
   "cell_type": "markdown",
   "metadata": {},
   "source": [
    "### 15.5 Objects are mutable \n",
    "You can change the state of an object by making an assignment to one of its attributes. For example, to change the size of a rectangle without changing its position, you can modify the values of width and height: \n",
    "box.width = box.width + 50 \n",
    "box.height = box.width + 100 \n",
    "You can also write functions that modify objects. For example, grow_rectangle takes a Rectangle object and two numbers, dwidth and dheight, and adds the numbers to the width and height of the rectangle: \n",
    "    \n",
    "    def grow_rectangle(rect, dwidth, dheight): \n",
    "        rect.width += dwidth \n",
    "        rect.height += dheight \n",
    "\n",
    "Here is an example that demonstrates the effect: \n",
    "    \n",
    "    >>> print(box.width )\n",
    "    100.0 \n",
    "    >>> print(box.height )\n",
    "    200.0 \n",
    "    >>> grow_rectangle(box, 50, 100) \n",
    "    >>> print(box.width )\n",
    "    150.0 \n",
    "    >>> print(box.height )\n",
    "    300.0 \n",
    "Inside the function, rect is an alias for box, so if the function modifies rect, box changes. "
   ]
  },
  {
   "cell_type": "markdown",
   "metadata": {},
   "source": [
    "#### Exercise 15.2. \n",
    "Write a function named move_rectangle that takes a Rectangle and two numbers named dx and dy. It should change the location of the rectangle by adding dx to the x coordinate of corner and adding dy to the y coordinate of corner. "
   ]
  },
  {
   "cell_type": "code",
   "execution_count": 10,
   "metadata": {},
   "outputs": [],
   "source": [
    "def move_rectangle(box,dx,dy):\n",
    "    box.x+=dx\n",
    "    box.y+=dy\n"
   ]
  },
  {
   "cell_type": "markdown",
   "metadata": {},
   "source": [
    "### 15.6 Copying \n",
    "Aliasing can make a program difficult to read because changes in one place might have unexpected effects in another place. It is hard to keep track of all the variables that might refer to a given object. \n",
    "Copying an object is often an alternative to aliasing. The copy module contains a function called copy that can duplicate any object: \n",
    "\n",
    "    >>> p1 = Point() \n",
    "    >>> p1.x = 3.0 \n",
    "    >>> p1.y = 4.0 \n",
    "    >>> import copy \n",
    "    >>> p2 = copy.copy(p1) \n",
    "\n",
    "p1 and p2 contain the same data, but they are not the same Point. \n",
    "\n",
    "    >>> print_point(p1) \n",
    "    (3.0, 4.0) \n",
    "    >>> print_point(p2) \n",
    "    (3.0, 4.0) \n",
    "    >>> p1 is p2 \n",
    "    False \n",
    "    >>> p1 == p2 \n",
    "    False \n",
    "The _is_ operator indicates that p1 and p2 are not the same object, which is what we expected. But you might have expected == to yield True because these points contain the same data. In that case, you will be disappointed to learn that for instances, the default behavior of the == operator is the same as the is operator; it checks object identity, not object equivalence. This behavior can be changed—we’ll see how later. \n",
    "If you use copy.copy to duplicate a Rectangle, you will find that it copies the Rectangle object but not the embedded Point. \n",
    " \n",
    "    >>>box2 = copy.copy(box)  \n",
    "    >>>box2 is box \n",
    "    False \n",
    "    >>> box2.corner is box.corner \n",
    "    True \n",
    "\n",
    "Figure 15.3: Object diagram. \n",
    "Figure 15.3 shows what the object diagram looks like. ",
    "copy because it copies the object and any references it contains, but not the embedded objects. \n",
    "For most applications, this is not what you want. In this example, invoking grow_rectangle on one of the Rectangles would not affect the other, but invoking move_rectangle on either would affect both! This behavior is confusing and error-prone. \n",
    "Fortunately, the copy module contains a method named deepcopy that copies not only the object but also the objects it refers to, and the objects they refer to, and so on. You will not be surprised to learn that this operation is called a deep copy. \n",
    "\n",
    "    >>> box3 = copy.deepcopy(box) \n",
    "    >>> box3 is box \n",
    "    False \n",
    "    >>> box3.corner is box.corner \n",
    "    False \n",
    "box3 and box are completely separate objects."
   ]
  },
  {
   "cell_type": "markdown",
   "metadata": {},
   "source": [
    "### Exercise 15.3. \n",
    "Write a version of move_rectangle that creates and returns a new Rectangle instead of modifying the old one. "
   ]
  },
  {
   "cell_type": "code",
   "execution_count": null,
   "metadata": {},
   "outputs": [],
   "source": [
    "import copy\n",
    "def move_rectangle(box, dx, dy):\n",
    "    box2=copy.deepcopy(box)\n",
    "    box2.x+=dx\n",
    "    box2.y+=dy"
   ]
  },
  {
   "cell_type": "markdown",
   "metadata": {},
   "source": [
    "### 15.7 Debugging \n",
    "When you start working with objects, you are likely to encounter some new exceptions. If you try to access an attribute that doesn’t exist, you get an AttributeError: \n",
    "    \n",
    "    >>> p = Point() \n",
    "    >>> print(p.z )\n",
    "    AttributeError: Point instance has no attribute 'z' \n",
    "If you are not sure what type an object is, you can ask: \n",
    "\n",
    "    >>> type(p) \n",
    "    <type '__main__.Point'> \n",
    "If you are not sure whether an object has a particular attribute, you can use the built-in function hasattr: \n",
    "\n",
    "    >>> hasattr(p, 'x') \n",
    "    True \n",
    "    >>> hasattr(p, 'z') \n",
    "    False\n",
    "The first argument can be any object; the second argument is a string that contains the name of the attribute. "
   ]
  },
  {
   "cell_type": "markdown",
   "metadata": {},
   "source": [
    "### 15.8 Glossary \n",
    "__class__: A user-defined type. A class definition creates a new class object. \n",
    "\n",
    "__class object__: An object that contains information about a user-defined type. The class ob- ject can be used to create instances of the type. \n",
    "\n",
    "__instance__: An object that belongs to a class. \n",
    "\n",
    "__attribute__: One of the named values associated with an object. \n",
    "\n",
    "__embedded (object)__: An object that is stored as an attribute of another object. \n",
    "\n",
    "__shallow copy__: To copy the contents of an object, including any references to embedded objects; implemented by the copy function in the copy module. \n",
    "\n",
    "__deep copy__: To copy the contents of an object as well as any embedded objects, and any objects embedded in them, and so on; implemented by the deepcopy function in the copy module. \n",
    "\n",
    "__object diagram__: A diagram that shows objects, their attributes, and the values of the at- tributes. "
   ]
  },
  {
   "cell_type": "markdown",
   "metadata": {},
   "source": [
    "### 15.9 Exercises\n",
    "#### Exercise 15.4. \n",
    "Swampy (see Chapter 4) provides a module named World, which defines a user- defined type also called World. You can import it like this: from swampy.World import World \n",
    "Or, depending on how you installed Swampy, like this: from World import World \n",
    "The following code creates a World object and calls the mainloop method, which waits for the user. \n",
    "\n",
    "    world = World() \n",
    "    world.mainloop() \n",
    "\n",
    "A window should appear with a title bar and an empty square. We will use this window to draw Points, Rectangles and other shapes. Add the following lines before calling mainloop and run the program again. \n",
    "    \n",
    "    canvas = world.ca(width=500, height=500, background='white') \n",
    "    bbox = [[-150,-100], [150, 100]] \n",
    "    canvas.rectangle(bbox, outline='black', width=2, fill='green4') \n",
    "You should see a green rectangle with a black outline. The first line creates a Canvas, which appears in the window as a white square. The Canvas object provides methods like rectangle for drawing various shapes. \n",
    "bbox is a list of lists that represents the “bounding box” of the rectangle. The first pair of coordinates is the lower-left corner of the rectangle; the second pair is the upper-right corner. \n",
    "You can draw a circle like this: \n",
    "150 Chapter15. Classesandobjects \n",
    "\n",
    "canvas.circle([-25,0], 70, outline=None, fill='red') \n",
    "The first parameter is the coordinate pair for the center of the circle; the second parameter is the radius. \n",
    "If you add this line to the program, the result should resemble the national flag of Bangladesh (see http: // en. wikipedia. org/ wiki/ Gallery_ of_ sovereign-state_ flags ). \n",
    "\t1.\tWrite a function called draw_rectangle that takes a Canvas and a Rectangle as arguments and draws a representation of the Rectangle on the Canvas.  ",
    "\n",
    "\t2.\tAdd an attribute named color to your Rectangle objects and modify draw_rectangle so that it uses the color attribute as the fill color.  ",
    "\n",
    "\t3.\tWriteafunctioncalleddraw_point that takesaCanvasandaPointasargumentsanddraws a representation of the Point on the Canvas.  ",
    "\n",
    "\t4.\tDefine a new class called Circle with appropriate attributes and instantiate a few Circle ob- jects. Write a function called draw_circle that draws circles on the canvas.  ",
    "\n",
    "\t5.\tWrite a program that draws the national flag of the Czech Republic. Hint: you can draw a polygon like this:  ",
    "points = [[-150,-100], [150, 100], [150, -100]]  ",
    "canvas.polygon(points, fill='blue')  ",
    "\n",
    "I have written a small program that lists the available colors; you can download it from http://greenteapress.com/thinkpython/code/color_list.py . "
   ]
  },
  {
   "cell_type": "code",
   "execution_count": 11,
   "metadata": {},
   "outputs": [],
   "source": [
    "import turtle"
   ]
  },
  {
   "cell_type": "code",
   "execution_count": 13,
   "metadata": {},
   "outputs": [
    {
     "ename": "ModuleNotFoundError",
     "evalue": "No module named 'world'",
     "output_type": "error",
     "traceback": [
      "\u001b[0;31m---------------------------------------------------------------------------\u001b[0m",
      "\u001b[0;31mModuleNotFoundError\u001b[0m                       Traceback (most recent call last)",
      "\u001b[0;32m<ipython-input-13-70879d1a4361>\u001b[0m in \u001b[0;36m<module>\u001b[0;34m\u001b[0m\n\u001b[0;32m----> 1\u001b[0;31m \u001b[0;32mimport\u001b[0m \u001b[0mworld\u001b[0m\u001b[0;34m\u001b[0m\u001b[0;34m\u001b[0m\u001b[0m\n\u001b[0m",
      "\u001b[0;31mModuleNotFoundError\u001b[0m: No module named 'world'"
     ]
    }
   ],
   "source": [
    "import "
   ]
  },
  {
   "cell_type": "code",
   "execution_count": null,
   "metadata": {},
   "outputs": [],
   "source": []
  }
 ],
 "metadata": {
  "kernelspec": {
   "display_name": "Python 3",
   "language": "python",
   "name": "python3"
  },
  "language_info": {
   "codemirror_mode": {
    "name": "ipython",
    "version": 3
   },
   "file_extension": ".py",
   "mimetype": "text/x-python",
   "name": "python",
   "nbconvert_exporter": "python",
   "pygments_lexer": "ipython3",
   "version": "3.8.2"
  }
 },
 "nbformat": 4,
 "nbformat_minor": 4
}
